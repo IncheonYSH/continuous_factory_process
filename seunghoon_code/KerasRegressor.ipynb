{
 "cells": [
  {
   "cell_type": "code",
   "execution_count": 1,
   "metadata": {},
   "outputs": [],
   "source": [
    "from IPython.core.interactiveshell import InteractiveShell\n",
    "InteractiveShell.ast_node_interactivity=\"all\""
   ]
  },
  {
   "cell_type": "code",
   "execution_count": 122,
   "metadata": {},
   "outputs": [],
   "source": [
    "import pandas as pd\n",
    "import numpy as np\n",
    "from matplotlib import pyplot as plt\n",
    "import seaborn as sns\n",
    "\n",
    "from tensorflow.keras.models import Sequential\n",
    "from tensorflow.keras.layers import Dense, Dropout\n",
    "from tensorflow.keras.wrappers.scikit_learn import KerasRegressor\n",
    "from sklearn.model_selection import cross_val_score, KFold, train_test_split\n",
    "from sklearn.preprocessing import RobustScaler\n",
    "from sklearn.pipeline import Pipeline"
   ]
  },
  {
   "cell_type": "code",
   "execution_count": 37,
   "metadata": {},
   "outputs": [],
   "source": [
    "seed = 42\n",
    "np.random.seed(seed)"
   ]
  },
  {
   "cell_type": "code",
   "execution_count": null,
   "metadata": {},
   "outputs": [],
   "source": [
    "drop_cols = [\"time_stamp\",\n",
    "             \"Machine1.Zone1Temperature.C.Actual\", \"Machine2.Zone1Temperature.C.Actual\", \"Machine3.Zone1Temperature.C.Actual\",\n",
    "             \"Machine1.Zone2Temperature.C.Actual\", \"Machine2.Zone2Temperature.C.Actual\", \"Machine3.Zone2Temperature.C.Actual\",\n",
    "             \"Machine2.ExitZoneTemperature.C.Actual\", \"Machine3.ExitZoneTemperature.C.Actual\",\n",
    "             \"Machine2.MotorAmperage.U.Actual\", \"Machine2.MotorRPM.C.Actual\",\n",
    "             \"FirstStage.CombinerOperation.Temperature3.C.Actual\"]"
   ]
  },
  {
   "cell_type": "code",
   "execution_count": 38,
   "metadata": {},
   "outputs": [],
   "source": [
    "df0_indexed = pd.read_csv(\"../Data/df0_indexed.csv\")\n",
    "\n",
    "X0, y0 = df0_indexed.iloc[:, :42], df0_indexed.iloc[:, 42:44]\n",
    "\n",
    "X0_reduced = X0.copy()\n",
    "X0_reduced.drop(drop_cols, axis=1, inplace=True)\n",
    "\n",
    "y0_Actual = y0.iloc[:, 0]"
   ]
  },
  {
   "cell_type": "code",
   "execution_count": 39,
   "metadata": {},
   "outputs": [
    {
     "data": {
      "text/plain": [
       "(13927, 30)"
      ]
     },
     "execution_count": 39,
     "metadata": {},
     "output_type": "execute_result"
    }
   ],
   "source": [
    "X0_reduced.shape"
   ]
  },
  {
   "cell_type": "code",
   "execution_count": 112,
   "metadata": {},
   "outputs": [],
   "source": [
    "def base_model():\n",
    "\t# create model\n",
    "    model = Sequential()\n",
    "    model.add(Dense(30, input_dim=30, kernel_initializer='normal', activation='relu'))\n",
    "    model.add(Dropout(0.2))\n",
    "    model.add(Dense(128, kernel_initializer='normal', activation='relu'))\n",
    "    model.add(Dense(1, kernel_initializer='normal'))\n",
    "\t# Compile model\n",
    "    model.compile(loss='mse', optimizer='adam')\n",
    "    return model"
   ]
  },
  {
   "cell_type": "code",
   "execution_count": 113,
   "metadata": {},
   "outputs": [],
   "source": [
    "estimators = []\n",
    "estimators.append(('robust', RobustScaler()))\n",
    "estimators.append(('kerasReg', KerasRegressor(build_fn=base_model, epochs=20, batch_size=10, verbose=1)))"
   ]
  },
  {
   "cell_type": "code",
   "execution_count": 114,
   "metadata": {},
   "outputs": [],
   "source": [
    "pipe = Pipeline(estimators)"
   ]
  },
  {
   "cell_type": "code",
   "execution_count": 115,
   "metadata": {},
   "outputs": [],
   "source": [
    "kfold = KFold(n_splits=5, shuffle=True, random_state=seed)"
   ]
  },
  {
   "cell_type": "code",
   "execution_count": 124,
   "metadata": {},
   "outputs": [],
   "source": [
    "X0_train, X0_test, y0_train, y0_test = train_test_split(X0_reduced, y0_Actual, test_size=0.2, random_state=seed)"
   ]
  },
  {
   "cell_type": "code",
   "execution_count": 136,
   "metadata": {
    "scrolled": true
   },
   "outputs": [
    {
     "name": "stdout",
     "output_type": "stream",
     "text": [
      "Epoch 1/20\n",
      "892/892 [==============================] - 1s 758us/step - loss: 12.3706\n",
      "Epoch 2/20\n",
      "892/892 [==============================] - 1s 761us/step - loss: 1.1014\n",
      "Epoch 3/20\n",
      "892/892 [==============================] - 1s 762us/step - loss: 0.2566\n",
      "Epoch 4/20\n",
      "892/892 [==============================] - 1s 757us/step - loss: 0.0404\n",
      "Epoch 5/20\n",
      "892/892 [==============================] - 1s 740us/step - loss: 0.0122\n",
      "Epoch 6/20\n",
      "892/892 [==============================] - 1s 757us/step - loss: 0.0102\n",
      "Epoch 7/20\n",
      "892/892 [==============================] - 1s 765us/step - loss: 0.0104\n",
      "Epoch 8/20\n",
      "892/892 [==============================] - 1s 786us/step - loss: 0.0094\n",
      "Epoch 9/20\n",
      "892/892 [==============================] - 1s 762us/step - loss: 0.0096\n",
      "Epoch 10/20\n",
      "892/892 [==============================] - 1s 795us/step - loss: 0.0084\n",
      "Epoch 11/20\n",
      "892/892 [==============================] - 1s 765us/step - loss: 0.0081\n",
      "Epoch 12/20\n",
      "892/892 [==============================] - 1s 824us/step - loss: 0.0079\n",
      "Epoch 13/20\n",
      "892/892 [==============================] - 1s 778us/step - loss: 0.0070\n",
      "Epoch 14/20\n",
      "892/892 [==============================] - 1s 807us/step - loss: 0.0068\n",
      "Epoch 15/20\n",
      "892/892 [==============================] - 1s 772us/step - loss: 0.0065\n",
      "Epoch 16/20\n",
      "892/892 [==============================] - 1s 817us/step - loss: 0.0066\n",
      "Epoch 17/20\n",
      "892/892 [==============================] - 1s 763us/step - loss: 0.0066\n",
      "Epoch 18/20\n",
      "892/892 [==============================] - 1s 807us/step - loss: 0.0065\n",
      "Epoch 19/20\n",
      "892/892 [==============================] - 1s 765us/step - loss: 0.0063\n",
      "Epoch 20/20\n",
      "892/892 [==============================] - 1s 803us/step - loss: 0.0064\n",
      "223/223 [==============================] - 0s 607us/step - loss: 0.0063\n",
      "Epoch 1/20\n",
      "892/892 [==============================] - 1s 778us/step - loss: 12.4115\n",
      "Epoch 2/20\n",
      "892/892 [==============================] - 1s 768us/step - loss: 0.9968\n",
      "Epoch 3/20\n",
      "892/892 [==============================] - 1s 793us/step - loss: 0.2168\n",
      "Epoch 4/20\n",
      "892/892 [==============================] - 1s 782us/step - loss: 0.0351\n",
      "Epoch 5/20\n",
      "892/892 [==============================] - 1s 749us/step - loss: 0.0136\n",
      "Epoch 6/20\n",
      "892/892 [==============================] - 1s 770us/step - loss: 0.0103\n",
      "Epoch 7/20\n",
      "892/892 [==============================] - 1s 772us/step - loss: 0.0101\n",
      "Epoch 8/20\n",
      "892/892 [==============================] - 1s 817us/step - loss: 0.0101\n",
      "Epoch 9/20\n",
      "892/892 [==============================] - 1s 847us/step - loss: 0.0089\n",
      "Epoch 10/20\n",
      "892/892 [==============================] - 1s 775us/step - loss: 0.0086\n",
      "Epoch 11/20\n",
      "892/892 [==============================] - 1s 815us/step - loss: 0.0076\n",
      "Epoch 12/20\n",
      "892/892 [==============================] - 1s 818us/step - loss: 0.0073\n",
      "Epoch 13/20\n",
      "892/892 [==============================] - 1s 769us/step - loss: 0.0069\n",
      "Epoch 14/20\n",
      "892/892 [==============================] - 1s 784us/step - loss: 0.0064\n",
      "Epoch 15/20\n",
      "892/892 [==============================] - 1s 797us/step - loss: 0.0062\n",
      "Epoch 16/20\n",
      "892/892 [==============================] - 1s 806us/step - loss: 0.0069\n",
      "Epoch 17/20\n",
      "892/892 [==============================] - 1s 846us/step - loss: 0.0064\n",
      "Epoch 18/20\n",
      "892/892 [==============================] - 1s 777us/step - loss: 0.0065\n",
      "Epoch 19/20\n",
      "892/892 [==============================] - 1s 772us/step - loss: 0.0061\n",
      "Epoch 20/20\n",
      "892/892 [==============================] - 1s 772us/step - loss: 0.0063\n",
      "223/223 [==============================] - 0s 619us/step - loss: 0.0059\n",
      "Epoch 1/20\n",
      "892/892 [==============================] - 1s 791us/step - loss: 12.6826\n",
      "Epoch 2/20\n",
      "892/892 [==============================] - 1s 778us/step - loss: 0.9964\n",
      "Epoch 3/20\n",
      "892/892 [==============================] - 1s 824us/step - loss: 0.2221\n",
      "Epoch 4/20\n",
      "892/892 [==============================] - 1s 855us/step - loss: 0.0368\n",
      "Epoch 5/20\n",
      "892/892 [==============================] - 1s 841us/step - loss: 0.0130\n",
      "Epoch 6/20\n",
      "892/892 [==============================] - 1s 868us/step - loss: 0.0104\n",
      "Epoch 7/20\n",
      "892/892 [==============================] - 1s 817us/step - loss: 0.0103\n",
      "Epoch 8/20\n",
      "892/892 [==============================] - 1s 820us/step - loss: 0.0096\n",
      "Epoch 9/20\n",
      "892/892 [==============================] - 1s 807us/step - loss: 0.0088\n",
      "Epoch 10/20\n",
      "892/892 [==============================] - 1s 792us/step - loss: 0.0081\n",
      "Epoch 11/20\n",
      "892/892 [==============================] - 1s 785us/step - loss: 0.0076\n",
      "Epoch 12/20\n",
      "892/892 [==============================] - 1s 794us/step - loss: 0.0074\n",
      "Epoch 13/20\n",
      "892/892 [==============================] - 1s 782us/step - loss: 0.0071\n",
      "Epoch 14/20\n",
      "892/892 [==============================] - 1s 787us/step - loss: 0.0070\n",
      "Epoch 15/20\n",
      "892/892 [==============================] - 1s 790us/step - loss: 0.0068\n",
      "Epoch 16/20\n",
      "892/892 [==============================] - 1s 778us/step - loss: 0.0069\n",
      "Epoch 17/20\n",
      "892/892 [==============================] - 1s 804us/step - loss: 0.0067\n",
      "Epoch 18/20\n",
      "892/892 [==============================] - 1s 779us/step - loss: 0.0069\n",
      "Epoch 19/20\n",
      "892/892 [==============================] - 1s 784us/step - loss: 0.0068\n",
      "Epoch 20/20\n",
      "892/892 [==============================] - 1s 773us/step - loss: 0.0071\n",
      "223/223 [==============================] - 0s 610us/step - loss: 0.0063\n",
      "Epoch 1/20\n",
      "892/892 [==============================] - 1s 771us/step - loss: 12.5732\n",
      "Epoch 2/20\n",
      "892/892 [==============================] - 1s 772us/step - loss: 0.9314\n",
      "Epoch 3/20\n",
      "892/892 [==============================] - 1s 813us/step - loss: 0.1827\n",
      "Epoch 4/20\n",
      "892/892 [==============================] - 1s 750us/step - loss: 0.0310\n",
      "Epoch 5/20\n",
      "892/892 [==============================] - 1s 757us/step - loss: 0.0134\n",
      "Epoch 6/20\n",
      "892/892 [==============================] - 1s 813us/step - loss: 0.0113\n",
      "Epoch 7/20\n",
      "892/892 [==============================] - 1s 834us/step - loss: 0.0105\n",
      "Epoch 8/20\n",
      "892/892 [==============================] - 1s 821us/step - loss: 0.0101\n",
      "Epoch 9/20\n",
      "892/892 [==============================] - 1s 801us/step - loss: 0.0091\n",
      "Epoch 10/20\n",
      "892/892 [==============================] - 1s 772us/step - loss: 0.0087\n",
      "Epoch 11/20\n",
      "892/892 [==============================] - 1s 761us/step - loss: 0.0076\n",
      "Epoch 12/20\n",
      "892/892 [==============================] - 1s 782us/step - loss: 0.0078\n",
      "Epoch 13/20\n",
      "892/892 [==============================] - 1s 821us/step - loss: 0.0075\n",
      "Epoch 14/20\n",
      "892/892 [==============================] - 1s 769us/step - loss: 0.0067\n",
      "Epoch 15/20\n",
      "892/892 [==============================] - 1s 765us/step - loss: 0.0064\n",
      "Epoch 16/20\n",
      "892/892 [==============================] - 1s 783us/step - loss: 0.0061\n",
      "Epoch 17/20\n",
      "892/892 [==============================] - 1s 763us/step - loss: 0.0065\n",
      "Epoch 18/20\n",
      "892/892 [==============================] - 1s 748us/step - loss: 0.0064\n",
      "Epoch 19/20\n",
      "892/892 [==============================] - 1s 762us/step - loss: 0.0067\n",
      "Epoch 20/20\n",
      "892/892 [==============================] - 1s 737us/step - loss: 0.0066\n",
      "223/223 [==============================] - 0s 605us/step - loss: 0.0056\n",
      "Epoch 1/20\n",
      "892/892 [==============================] - 1s 775us/step - loss: 12.2496\n",
      "Epoch 2/20\n",
      "892/892 [==============================] - 1s 769us/step - loss: 0.9478\n",
      "Epoch 3/20\n",
      "892/892 [==============================] - 1s 798us/step - loss: 0.2154\n",
      "Epoch 4/20\n",
      "892/892 [==============================] - 1s 787us/step - loss: 0.0381\n",
      "Epoch 5/20\n",
      "892/892 [==============================] - 1s 768us/step - loss: 0.0125\n",
      "Epoch 6/20\n",
      "892/892 [==============================] - 1s 759us/step - loss: 0.0100\n",
      "Epoch 7/20\n",
      "892/892 [==============================] - 1s 755us/step - loss: 0.0101\n",
      "Epoch 8/20\n",
      "892/892 [==============================] - 1s 783us/step - loss: 0.0100\n",
      "Epoch 9/20\n",
      "892/892 [==============================] - 1s 794us/step - loss: 0.0101\n",
      "Epoch 10/20\n",
      "892/892 [==============================] - 1s 1ms/step - loss: 0.0099\n",
      "Epoch 11/20\n",
      "892/892 [==============================] - 1s 797us/step - loss: 0.0075\n",
      "Epoch 12/20\n",
      "892/892 [==============================] - 1s 766us/step - loss: 0.0075\n",
      "Epoch 13/20\n",
      "892/892 [==============================] - 1s 762us/step - loss: 0.0073\n",
      "Epoch 14/20\n",
      "892/892 [==============================] - 1s 810us/step - loss: 0.0066\n",
      "Epoch 15/20\n"
     ]
    },
    {
     "name": "stdout",
     "output_type": "stream",
     "text": [
      "892/892 [==============================] - 1s 802us/step - loss: 0.0070\n",
      "Epoch 16/20\n",
      "892/892 [==============================] - 1s 868us/step - loss: 0.0066\n",
      "Epoch 17/20\n",
      "892/892 [==============================] - 1s 766us/step - loss: 0.0071\n",
      "Epoch 18/20\n",
      "892/892 [==============================] - 1s 758us/step - loss: 0.0068\n",
      "Epoch 19/20\n",
      "892/892 [==============================] - 1s 756us/step - loss: 0.0068\n",
      "Epoch 20/20\n",
      "892/892 [==============================] - 1s 762us/step - loss: 0.0069\n",
      "223/223 [==============================] - 0s 585us/step - loss: 0.0077\n"
     ]
    },
    {
     "data": {
      "text/plain": [
       "array([-0.00625975, -0.00586612, -0.00634911, -0.00558548, -0.00769738])"
      ]
     },
     "execution_count": 136,
     "metadata": {},
     "output_type": "execute_result"
    }
   ],
   "source": [
    "cross_val_score(pipe, X0_train, y0_train, cv=kfold, n_jobs=1)"
   ]
  },
  {
   "cell_type": "code",
   "execution_count": 125,
   "metadata": {
    "scrolled": true
   },
   "outputs": [
    {
     "name": "stdout",
     "output_type": "stream",
     "text": [
      "Epoch 1/20\n",
      "1115/1115 [==============================] - 1s 995us/step - loss: 9.8243\n",
      "Epoch 2/20\n",
      "1115/1115 [==============================] - 1s 817us/step - loss: 0.6120\n",
      "Epoch 3/20\n",
      "1115/1115 [==============================] - 1s 764us/step - loss: 0.0713\n",
      "Epoch 4/20\n",
      "1115/1115 [==============================] - 1s 763us/step - loss: 0.0148\n",
      "Epoch 5/20\n",
      "1115/1115 [==============================] - 1s 771us/step - loss: 0.0109\n",
      "Epoch 6/20\n",
      "1115/1115 [==============================] - 1s 761us/step - loss: 0.0096\n",
      "Epoch 7/20\n",
      "1115/1115 [==============================] - 1s 801us/step - loss: 0.0089\n",
      "Epoch 8/20\n",
      "1115/1115 [==============================] - 1s 799us/step - loss: 0.0088\n",
      "Epoch 9/20\n",
      "1115/1115 [==============================] - 1s 772us/step - loss: 0.0075\n",
      "Epoch 10/20\n",
      "1115/1115 [==============================] - 1s 822us/step - loss: 0.0072\n",
      "Epoch 11/20\n",
      "1115/1115 [==============================] - 1s 849us/step - loss: 0.0071\n",
      "Epoch 12/20\n",
      "1115/1115 [==============================] - 1s 770us/step - loss: 0.0067\n",
      "Epoch 13/20\n",
      "1115/1115 [==============================] - 1s 801us/step - loss: 0.0069\n",
      "Epoch 14/20\n",
      "1115/1115 [==============================] - 1s 776us/step - loss: 0.0071\n",
      "Epoch 15/20\n",
      "1115/1115 [==============================] - 1s 769us/step - loss: 0.0070\n",
      "Epoch 16/20\n",
      "1115/1115 [==============================] - 1s 789us/step - loss: 0.0068\n",
      "Epoch 17/20\n",
      "1115/1115 [==============================] - 1s 786us/step - loss: 0.0083\n",
      "Epoch 18/20\n",
      "1115/1115 [==============================] - 1s 799us/step - loss: 0.0070\n",
      "Epoch 19/20\n",
      "1115/1115 [==============================] - 1s 797us/step - loss: 0.0070\n",
      "Epoch 20/20\n",
      "1115/1115 [==============================] - 1s 788us/step - loss: 0.0070\n"
     ]
    },
    {
     "data": {
      "text/plain": [
       "Pipeline(steps=[('robust', RobustScaler()),\n",
       "                ('kerasReg',\n",
       "                 <tensorflow.python.keras.wrappers.scikit_learn.KerasRegressor object at 0x00000239971BA7B8>)])"
      ]
     },
     "execution_count": 125,
     "metadata": {},
     "output_type": "execute_result"
    }
   ],
   "source": [
    "pipe.fit(X0_train, y0_train)"
   ]
  },
  {
   "cell_type": "code",
   "execution_count": 126,
   "metadata": {
    "scrolled": true
   },
   "outputs": [
    {
     "name": "stdout",
     "output_type": "stream",
     "text": [
      "279/279 [==============================] - 0s 527us/step\n"
     ]
    }
   ],
   "source": [
    "y0_pred = pipe.predict(X0_test)"
   ]
  },
  {
   "cell_type": "code",
   "execution_count": 131,
   "metadata": {
    "scrolled": true
   },
   "outputs": [
    {
     "data": {
      "text/plain": [
       "<matplotlib.collections.PathCollection at 0x2399d2feb70>"
      ]
     },
     "execution_count": 131,
     "metadata": {},
     "output_type": "execute_result"
    },
    {
     "data": {
      "text/plain": [
       "<matplotlib.collections.PathCollection at 0x2399d2fef98>"
      ]
     },
     "execution_count": 131,
     "metadata": {},
     "output_type": "execute_result"
    },
    {
     "data": {
      "image/png": "[encoded data removed]",
      "text/plain": [
       "<Figure size 432x288 with 1 Axes>"
      ]
     },
     "metadata": {
      "needs_background": "light"
     },
     "output_type": "display_data"
    }
   ],
   "source": [
    "plt.scatter(np.arange(len(X0_test)), y0_test)\n",
    "plt.scatter(np.arange(len(X0_test)), y0_pred)"
   ]
  },
  {
   "cell_type": "code",
   "execution_count": 133,
   "metadata": {},
   "outputs": [
    {
     "name": "stdout",
     "output_type": "stream",
     "text": [
      "279/279 [==============================] - 0s 609us/step - loss: 0.0088\n"
     ]
    },
    {
     "data": {
      "text/plain": [
       "-0.00882023572921753"
      ]
     },
     "execution_count": 133,
     "metadata": {},
     "output_type": "execute_result"
    }
   ],
   "source": [
    "pipe.score(X0_test, y0_test)"
   ]
  },
  {
   "cell_type": "code",
   "execution_count": 132,
   "metadata": {},
   "outputs": [
    {
     "name": "stdout",
     "output_type": "stream",
     "text": [
      "1393/1393 [==============================] - 1s 519us/step\n"
     ]
    },
    {
     "data": {
      "text/plain": [
       "[<matplotlib.lines.Line2D at 0x2399d3c56a0>]"
      ]
     },
     "execution_count": 132,
     "metadata": {},
     "output_type": "execute_result"
    },
    {
     "data": {
      "text/plain": [
       "[<matplotlib.lines.Line2D at 0x2399d3417b8>]"
      ]
     },
     "execution_count": 132,
     "metadata": {},
     "output_type": "execute_result"
    },
    {
     "data": {
      "image/png": "[encoded data removed]",
      "text/plain": [
       "<Figure size 432x288 with 1 Axes>"
      ]
     },
     "metadata": {
      "needs_background": "light"
     },
     "output_type": "display_data"
    }
   ],
   "source": [
    "plt.plot(pipe.predict(X0_reduced), \"b\")\n",
    "plt.plot(y0_Actual, \"r\")"
   ]
  },
  {
   "cell_type": "code",
   "execution_count": null,
   "metadata": {},
   "outputs": [],
   "source": []
  }
 ],
 "metadata": {
  "kernelspec": {
   "display_name": "Python 3",
   "language": "python",
   "name": "python3"
  },
  "language_info": {
   "codemirror_mode": {
    "name": "ipython",
    "version": 3
   },
   "file_extension": ".py",
   "mimetype": "text/x-python",
   "name": "python",
   "nbconvert_exporter": "python",
   "pygments_lexer": "ipython3",
   "version": "3.6.10"
  }
 },
 "nbformat": 4,
 "nbformat_minor": 4
}
