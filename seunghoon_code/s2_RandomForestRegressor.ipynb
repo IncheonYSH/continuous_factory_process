{
 "cells": [
  {
   "cell_type": "code",
   "execution_count": 1,
   "metadata": {},
   "outputs": [],
   "source": [
    "from IPython.core.interactiveshell import InteractiveShell\n",
    "InteractiveShell.ast_node_interactivity=\"all\""
   ]
  },
  {
   "cell_type": "code",
   "execution_count": 2,
   "metadata": {},
   "outputs": [],
   "source": [
    "import pandas as pd\n",
    "import numpy as np\n",
    "from matplotlib import pyplot as plt\n",
    "import seaborn as sns\n",
    "from sklearn.model_selection import train_test_split\n",
    "from sklearn.model_selection import cross_val_score\n",
    "from sklearn.ensemble import RandomForestRegressor\n",
    "from sklearn.metrics import r2_score, mean_squared_error\n",
    "from sklearn.preprocessing import RobustScaler"
   ]
  },
  {
   "cell_type": "code",
   "execution_count": 6,
   "metadata": {},
   "outputs": [],
   "source": [
    "drop_cols = [\"time_stamp\",\n",
    "             \"Machine1.Zone1Temperature.C.Actual\", \"Machine2.Zone1Temperature.C.Actual\", \"Machine3.Zone1Temperature.C.Actual\",\n",
    "             \"Machine1.Zone2Temperature.C.Actual\", \"Machine2.Zone2Temperature.C.Actual\", \"Machine3.Zone2Temperature.C.Actual\",\n",
    "             \"Machine2.ExitZoneTemperature.C.Actual\", \"Machine3.ExitZoneTemperature.C.Actual\",\n",
    "             \"Machine1.MotorAmperage.U.Actual\", \"Machine2.MotorAmperage.U.Actual\", \"Machine3.MotorAmperage.U.Actual\",\n",
    "             \"Machine2.MotorRPM.C.Actual\",\n",
    "             \"FirstStage.CombinerOperation.Temperature3.C.Actual\",\n",
    "             \"Machine4.Temperature1.C.Actual\", \"Machine4.Temperature2.C.Actual\", \"Machine4.Temperature3.C.Actual\", \"Machine4.Pressure.C.Actual\",\n",
    "             \"Machine5.Temperature1.C.Actual\", \"Machine5.Temperature2.C.Actual\", \"Machine5.Temperature5.C.Actual\"]"
   ]
  },
  {
   "cell_type": "code",
   "execution_count": 7,
   "metadata": {},
   "outputs": [],
   "source": [
    "y_drop_cols = [\"Stage1.Output.Measurement0.U.Actual\", \"Stage1.Output.Measurement0.U.Setpoint\",\n",
    "               \"Stage1.Output.Measurement1.U.Actual\", \"Stage1.Output.Measurement1.U.Setpoint\",\n",
    "               \"Stage1.Output.Measurement2.U.Actual\", \"Stage1.Output.Measurement2.U.Setpoint\",\n",
    "               \"Stage1.Output.Measurement3.U.Actual\", \"Stage1.Output.Measurement3.U.Setpoint\",\n",
    "               \"Stage1.Output.Measurement4.U.Actual\", \"Stage1.Output.Measurement4.U.Setpoint\",\n",
    "               \"Stage1.Output.Measurement5.U.Actual\", \"Stage1.Output.Measurement5.U.Setpoint\",\n",
    "               \"Stage1.Output.Measurement6.U.Actual\", \"Stage1.Output.Measurement6.U.Setpoint\",\n",
    "               \"Stage1.Output.Measurement7.U.Actual\", \"Stage1.Output.Measurement7.U.Setpoint\",\n",
    "               \"Stage1.Output.Measurement8.U.Actual\", \"Stage1.Output.Measurement8.U.Setpoint\",\n",
    "               \"Stage1.Output.Measurement9.U.Actual\", \"Stage1.Output.Measurement9.U.Setpoint\",\n",
    "               \"Stage1.Output.Measurement10.U.Actual\", \"Stage1.Output.Measurement10.U.Setpoint\",\n",
    "               \"Stage1.Output.Measurement11.U.Actual\", \"Stage1.Output.Measurement11.U.Setpoint\",\n",
    "               \"Stage1.Output.Measurement12.U.Actual\", \"Stage1.Output.Measurement12.U.Setpoint\",\n",
    "               \"Stage1.Output.Measurement13.U.Actual\", \"Stage1.Output.Measurement13.U.Setpoint\",\n",
    "               \"Stage1.Output.Measurement14.U.Actual\", \"Stage1.Output.Measurement14.U.Setpoint\"]"
   ]
  },
  {
   "cell_type": "code",
   "execution_count": 48,
   "metadata": {},
   "outputs": [],
   "source": [
    "df0_indexed = pd.read_csv(\"../Data/s2_df0_indexed.csv\")\n",
    "\n",
    "X0, y0 = df0_indexed.iloc[:, :86], df0_indexed.iloc[:, 86:88]\n",
    "\n",
    "X0_reduced = X0.copy()\n",
    "X0_reduced.drop(drop_cols, axis=1, inplace=True)\n",
    "X0_reduced.drop(y_drop_cols, axis=1, inplace=True)\n",
    "\n",
    "y0_Actual = y0.iloc[:, 0]"
   ]
  },
  {
   "cell_type": "code",
   "execution_count": 49,
   "metadata": {
    "scrolled": true
   },
   "outputs": [
    {
     "data": {
      "text/html": [
       "<div>\n",
       "<style scoped>\n",
       "    .dataframe tbody tr th:only-of-type {\n",
       "        vertical-align: middle;\n",
       "    }\n",
       "\n",
       "    .dataframe tbody tr th {\n",
       "        vertical-align: top;\n",
       "    }\n",
       "\n",
       "    .dataframe thead th {\n",
       "        text-align: right;\n",
       "    }\n",
       "</style>\n",
       "<table border=\"1\" class=\"dataframe\">\n",
       "  <thead>\n",
       "    <tr style=\"text-align: right;\">\n",
       "      <th></th>\n",
       "      <th>AmbientConditions.AmbientHumidity.U.Actual</th>\n",
       "      <th>AmbientConditions.AmbientTemperature.U.Actual</th>\n",
       "      <th>Machine1.RawMaterial.Property1</th>\n",
       "      <th>Machine1.RawMaterial.Property2</th>\n",
       "      <th>Machine1.RawMaterial.Property3</th>\n",
       "      <th>Machine1.RawMaterial.Property4</th>\n",
       "      <th>Machine1.RawMaterialFeederParameter.U.Actual</th>\n",
       "      <th>Machine1.MotorRPM.C.Actual</th>\n",
       "      <th>Machine1.MaterialPressure.U.Actual</th>\n",
       "      <th>Machine1.MaterialTemperature.U.Actual</th>\n",
       "      <th>...</th>\n",
       "      <th>Machine3.MaterialTemperature.U.Actual</th>\n",
       "      <th>FirstStage.CombinerOperation.Temperature1.U.Actual</th>\n",
       "      <th>FirstStage.CombinerOperation.Temperature2.U.Actual</th>\n",
       "      <th>Machine4.Temperature4.C.Actual</th>\n",
       "      <th>Machine4.Temperature5.C.Actual</th>\n",
       "      <th>Machine4.ExitTemperature.U.Actual</th>\n",
       "      <th>Machine5.Temperature3.C.Actual</th>\n",
       "      <th>Machine5.Temperature4.C.Actual</th>\n",
       "      <th>Machine5.Temperature6.C.Actual</th>\n",
       "      <th>Machine5.ExitTemperature.U.Actual</th>\n",
       "    </tr>\n",
       "  </thead>\n",
       "  <tbody>\n",
       "    <tr>\n",
       "      <th>0</th>\n",
       "      <td>17.04</td>\n",
       "      <td>23.69</td>\n",
       "      <td>11.54</td>\n",
       "      <td>200</td>\n",
       "      <td>963.00</td>\n",
       "      <td>247</td>\n",
       "      <td>1262.34</td>\n",
       "      <td>10.55</td>\n",
       "      <td>425.88</td>\n",
       "      <td>80.6</td>\n",
       "      <td>...</td>\n",
       "      <td>68.6</td>\n",
       "      <td>105.7</td>\n",
       "      <td>113.9</td>\n",
       "      <td>17.0</td>\n",
       "      <td>302.0</td>\n",
       "      <td>163.0</td>\n",
       "      <td>266.8</td>\n",
       "      <td>238.8</td>\n",
       "      <td>64.0</td>\n",
       "      <td>150.5</td>\n",
       "    </tr>\n",
       "    <tr>\n",
       "      <th>1</th>\n",
       "      <td>17.04</td>\n",
       "      <td>23.69</td>\n",
       "      <td>11.54</td>\n",
       "      <td>200</td>\n",
       "      <td>963.00</td>\n",
       "      <td>247</td>\n",
       "      <td>1276.63</td>\n",
       "      <td>10.52</td>\n",
       "      <td>431.04</td>\n",
       "      <td>80.6</td>\n",
       "      <td>...</td>\n",
       "      <td>68.6</td>\n",
       "      <td>105.7</td>\n",
       "      <td>113.7</td>\n",
       "      <td>18.0</td>\n",
       "      <td>302.0</td>\n",
       "      <td>162.0</td>\n",
       "      <td>266.8</td>\n",
       "      <td>238.8</td>\n",
       "      <td>63.9</td>\n",
       "      <td>150.5</td>\n",
       "    </tr>\n",
       "    <tr>\n",
       "      <th>2</th>\n",
       "      <td>17.04</td>\n",
       "      <td>23.69</td>\n",
       "      <td>11.54</td>\n",
       "      <td>200</td>\n",
       "      <td>963.00</td>\n",
       "      <td>247</td>\n",
       "      <td>1260.29</td>\n",
       "      <td>10.45</td>\n",
       "      <td>430.07</td>\n",
       "      <td>80.7</td>\n",
       "      <td>...</td>\n",
       "      <td>68.7</td>\n",
       "      <td>105.1</td>\n",
       "      <td>113.9</td>\n",
       "      <td>17.0</td>\n",
       "      <td>303.0</td>\n",
       "      <td>163.0</td>\n",
       "      <td>266.8</td>\n",
       "      <td>238.8</td>\n",
       "      <td>63.7</td>\n",
       "      <td>147.4</td>\n",
       "    </tr>\n",
       "    <tr>\n",
       "      <th>3</th>\n",
       "      <td>17.04</td>\n",
       "      <td>23.69</td>\n",
       "      <td>11.54</td>\n",
       "      <td>200</td>\n",
       "      <td>963.00</td>\n",
       "      <td>247</td>\n",
       "      <td>1261.85</td>\n",
       "      <td>10.45</td>\n",
       "      <td>429.01</td>\n",
       "      <td>80.8</td>\n",
       "      <td>...</td>\n",
       "      <td>68.8</td>\n",
       "      <td>105.6</td>\n",
       "      <td>113.8</td>\n",
       "      <td>18.0</td>\n",
       "      <td>303.0</td>\n",
       "      <td>165.0</td>\n",
       "      <td>266.9</td>\n",
       "      <td>238.9</td>\n",
       "      <td>63.7</td>\n",
       "      <td>142.6</td>\n",
       "    </tr>\n",
       "    <tr>\n",
       "      <th>4</th>\n",
       "      <td>17.04</td>\n",
       "      <td>23.69</td>\n",
       "      <td>11.54</td>\n",
       "      <td>200</td>\n",
       "      <td>963.00</td>\n",
       "      <td>247</td>\n",
       "      <td>1262.58</td>\n",
       "      <td>10.52</td>\n",
       "      <td>423.58</td>\n",
       "      <td>80.8</td>\n",
       "      <td>...</td>\n",
       "      <td>68.8</td>\n",
       "      <td>105.4</td>\n",
       "      <td>114.9</td>\n",
       "      <td>16.0</td>\n",
       "      <td>303.0</td>\n",
       "      <td>164.0</td>\n",
       "      <td>267.0</td>\n",
       "      <td>238.9</td>\n",
       "      <td>63.6</td>\n",
       "      <td>142.4</td>\n",
       "    </tr>\n",
       "    <tr>\n",
       "      <th>...</th>\n",
       "      <td>...</td>\n",
       "      <td>...</td>\n",
       "      <td>...</td>\n",
       "      <td>...</td>\n",
       "      <td>...</td>\n",
       "      <td>...</td>\n",
       "      <td>...</td>\n",
       "      <td>...</td>\n",
       "      <td>...</td>\n",
       "      <td>...</td>\n",
       "      <td>...</td>\n",
       "      <td>...</td>\n",
       "      <td>...</td>\n",
       "      <td>...</td>\n",
       "      <td>...</td>\n",
       "      <td>...</td>\n",
       "      <td>...</td>\n",
       "      <td>...</td>\n",
       "      <td>...</td>\n",
       "      <td>...</td>\n",
       "      <td>...</td>\n",
       "    </tr>\n",
       "    <tr>\n",
       "      <th>12153</th>\n",
       "      <td>13.84</td>\n",
       "      <td>24.43</td>\n",
       "      <td>12.22</td>\n",
       "      <td>201</td>\n",
       "      <td>1048.06</td>\n",
       "      <td>252</td>\n",
       "      <td>1263.76</td>\n",
       "      <td>12.21</td>\n",
       "      <td>424.53</td>\n",
       "      <td>83.7</td>\n",
       "      <td>...</td>\n",
       "      <td>74.9</td>\n",
       "      <td>115.4</td>\n",
       "      <td>106.5</td>\n",
       "      <td>18.0</td>\n",
       "      <td>311.0</td>\n",
       "      <td>195.0</td>\n",
       "      <td>270.0</td>\n",
       "      <td>244.7</td>\n",
       "      <td>63.7</td>\n",
       "      <td>155.4</td>\n",
       "    </tr>\n",
       "    <tr>\n",
       "      <th>12154</th>\n",
       "      <td>13.84</td>\n",
       "      <td>24.43</td>\n",
       "      <td>12.22</td>\n",
       "      <td>201</td>\n",
       "      <td>1048.06</td>\n",
       "      <td>252</td>\n",
       "      <td>1255.42</td>\n",
       "      <td>12.17</td>\n",
       "      <td>426.73</td>\n",
       "      <td>83.7</td>\n",
       "      <td>...</td>\n",
       "      <td>74.9</td>\n",
       "      <td>118.1</td>\n",
       "      <td>107.4</td>\n",
       "      <td>19.0</td>\n",
       "      <td>311.0</td>\n",
       "      <td>195.0</td>\n",
       "      <td>270.0</td>\n",
       "      <td>244.7</td>\n",
       "      <td>63.7</td>\n",
       "      <td>155.1</td>\n",
       "    </tr>\n",
       "    <tr>\n",
       "      <th>12155</th>\n",
       "      <td>13.84</td>\n",
       "      <td>24.43</td>\n",
       "      <td>12.22</td>\n",
       "      <td>201</td>\n",
       "      <td>1048.06</td>\n",
       "      <td>252</td>\n",
       "      <td>1257.52</td>\n",
       "      <td>12.14</td>\n",
       "      <td>429.77</td>\n",
       "      <td>83.7</td>\n",
       "      <td>...</td>\n",
       "      <td>74.9</td>\n",
       "      <td>118.1</td>\n",
       "      <td>108.0</td>\n",
       "      <td>17.0</td>\n",
       "      <td>311.0</td>\n",
       "      <td>195.0</td>\n",
       "      <td>270.0</td>\n",
       "      <td>244.7</td>\n",
       "      <td>63.7</td>\n",
       "      <td>155.1</td>\n",
       "    </tr>\n",
       "    <tr>\n",
       "      <th>12156</th>\n",
       "      <td>13.84</td>\n",
       "      <td>24.43</td>\n",
       "      <td>12.22</td>\n",
       "      <td>201</td>\n",
       "      <td>1048.06</td>\n",
       "      <td>252</td>\n",
       "      <td>1261.99</td>\n",
       "      <td>12.21</td>\n",
       "      <td>431.36</td>\n",
       "      <td>83.7</td>\n",
       "      <td>...</td>\n",
       "      <td>74.9</td>\n",
       "      <td>118.1</td>\n",
       "      <td>108.2</td>\n",
       "      <td>18.0</td>\n",
       "      <td>311.0</td>\n",
       "      <td>195.0</td>\n",
       "      <td>270.0</td>\n",
       "      <td>244.7</td>\n",
       "      <td>63.7</td>\n",
       "      <td>155.4</td>\n",
       "    </tr>\n",
       "    <tr>\n",
       "      <th>12157</th>\n",
       "      <td>13.84</td>\n",
       "      <td>24.43</td>\n",
       "      <td>12.22</td>\n",
       "      <td>201</td>\n",
       "      <td>1048.06</td>\n",
       "      <td>252</td>\n",
       "      <td>1257.40</td>\n",
       "      <td>12.17</td>\n",
       "      <td>435.96</td>\n",
       "      <td>83.7</td>\n",
       "      <td>...</td>\n",
       "      <td>74.9</td>\n",
       "      <td>113.6</td>\n",
       "      <td>107.0</td>\n",
       "      <td>19.0</td>\n",
       "      <td>311.0</td>\n",
       "      <td>196.0</td>\n",
       "      <td>270.0</td>\n",
       "      <td>244.7</td>\n",
       "      <td>63.7</td>\n",
       "      <td>155.2</td>\n",
       "    </tr>\n",
       "  </tbody>\n",
       "</table>\n",
       "<p>12158 rows × 35 columns</p>\n",
       "</div>"
      ],
      "text/plain": [
       "       AmbientConditions.AmbientHumidity.U.Actual  \\\n",
       "0                                           17.04   \n",
       "1                                           17.04   \n",
       "2                                           17.04   \n",
       "3                                           17.04   \n",
       "4                                           17.04   \n",
       "...                                           ...   \n",
       "12153                                       13.84   \n",
       "12154                                       13.84   \n",
       "12155                                       13.84   \n",
       "12156                                       13.84   \n",
       "12157                                       13.84   \n",
       "\n",
       "       AmbientConditions.AmbientTemperature.U.Actual  \\\n",
       "0                                              23.69   \n",
       "1                                              23.69   \n",
       "2                                              23.69   \n",
       "3                                              23.69   \n",
       "4                                              23.69   \n",
       "...                                              ...   \n",
       "12153                                          24.43   \n",
       "12154                                          24.43   \n",
       "12155                                          24.43   \n",
       "12156                                          24.43   \n",
       "12157                                          24.43   \n",
       "\n",
       "       Machine1.RawMaterial.Property1  Machine1.RawMaterial.Property2  \\\n",
       "0                               11.54                             200   \n",
       "1                               11.54                             200   \n",
       "2                               11.54                             200   \n",
       "3                               11.54                             200   \n",
       "4                               11.54                             200   \n",
       "...                               ...                             ...   \n",
       "12153                           12.22                             201   \n",
       "12154                           12.22                             201   \n",
       "12155                           12.22                             201   \n",
       "12156                           12.22                             201   \n",
       "12157                           12.22                             201   \n",
       "\n",
       "       Machine1.RawMaterial.Property3  Machine1.RawMaterial.Property4  \\\n",
       "0                              963.00                             247   \n",
       "1                              963.00                             247   \n",
       "2                              963.00                             247   \n",
       "3                              963.00                             247   \n",
       "4                              963.00                             247   \n",
       "...                               ...                             ...   \n",
       "12153                         1048.06                             252   \n",
       "12154                         1048.06                             252   \n",
       "12155                         1048.06                             252   \n",
       "12156                         1048.06                             252   \n",
       "12157                         1048.06                             252   \n",
       "\n",
       "       Machine1.RawMaterialFeederParameter.U.Actual  \\\n",
       "0                                           1262.34   \n",
       "1                                           1276.63   \n",
       "2                                           1260.29   \n",
       "3                                           1261.85   \n",
       "4                                           1262.58   \n",
       "...                                             ...   \n",
       "12153                                       1263.76   \n",
       "12154                                       1255.42   \n",
       "12155                                       1257.52   \n",
       "12156                                       1261.99   \n",
       "12157                                       1257.40   \n",
       "\n",
       "       Machine1.MotorRPM.C.Actual  Machine1.MaterialPressure.U.Actual  \\\n",
       "0                           10.55                              425.88   \n",
       "1                           10.52                              431.04   \n",
       "2                           10.45                              430.07   \n",
       "3                           10.45                              429.01   \n",
       "4                           10.52                              423.58   \n",
       "...                           ...                                 ...   \n",
       "12153                       12.21                              424.53   \n",
       "12154                       12.17                              426.73   \n",
       "12155                       12.14                              429.77   \n",
       "12156                       12.21                              431.36   \n",
       "12157                       12.17                              435.96   \n",
       "\n",
       "       Machine1.MaterialTemperature.U.Actual  ...  \\\n",
       "0                                       80.6  ...   \n",
       "1                                       80.6  ...   \n",
       "2                                       80.7  ...   \n",
       "3                                       80.8  ...   \n",
       "4                                       80.8  ...   \n",
       "...                                      ...  ...   \n",
       "12153                                   83.7  ...   \n",
       "12154                                   83.7  ...   \n",
       "12155                                   83.7  ...   \n",
       "12156                                   83.7  ...   \n",
       "12157                                   83.7  ...   \n",
       "\n",
       "       Machine3.MaterialTemperature.U.Actual  \\\n",
       "0                                       68.6   \n",
       "1                                       68.6   \n",
       "2                                       68.7   \n",
       "3                                       68.8   \n",
       "4                                       68.8   \n",
       "...                                      ...   \n",
       "12153                                   74.9   \n",
       "12154                                   74.9   \n",
       "12155                                   74.9   \n",
       "12156                                   74.9   \n",
       "12157                                   74.9   \n",
       "\n",
       "       FirstStage.CombinerOperation.Temperature1.U.Actual  \\\n",
       "0                                                  105.7    \n",
       "1                                                  105.7    \n",
       "2                                                  105.1    \n",
       "3                                                  105.6    \n",
       "4                                                  105.4    \n",
       "...                                                  ...    \n",
       "12153                                              115.4    \n",
       "12154                                              118.1    \n",
       "12155                                              118.1    \n",
       "12156                                              118.1    \n",
       "12157                                              113.6    \n",
       "\n",
       "       FirstStage.CombinerOperation.Temperature2.U.Actual  \\\n",
       "0                                                  113.9    \n",
       "1                                                  113.7    \n",
       "2                                                  113.9    \n",
       "3                                                  113.8    \n",
       "4                                                  114.9    \n",
       "...                                                  ...    \n",
       "12153                                              106.5    \n",
       "12154                                              107.4    \n",
       "12155                                              108.0    \n",
       "12156                                              108.2    \n",
       "12157                                              107.0    \n",
       "\n",
       "       Machine4.Temperature4.C.Actual  Machine4.Temperature5.C.Actual  \\\n",
       "0                                17.0                           302.0   \n",
       "1                                18.0                           302.0   \n",
       "2                                17.0                           303.0   \n",
       "3                                18.0                           303.0   \n",
       "4                                16.0                           303.0   \n",
       "...                               ...                             ...   \n",
       "12153                            18.0                           311.0   \n",
       "12154                            19.0                           311.0   \n",
       "12155                            17.0                           311.0   \n",
       "12156                            18.0                           311.0   \n",
       "12157                            19.0                           311.0   \n",
       "\n",
       "       Machine4.ExitTemperature.U.Actual  Machine5.Temperature3.C.Actual  \\\n",
       "0                                  163.0                           266.8   \n",
       "1                                  162.0                           266.8   \n",
       "2                                  163.0                           266.8   \n",
       "3                                  165.0                           266.9   \n",
       "4                                  164.0                           267.0   \n",
       "...                                  ...                             ...   \n",
       "12153                              195.0                           270.0   \n",
       "12154                              195.0                           270.0   \n",
       "12155                              195.0                           270.0   \n",
       "12156                              195.0                           270.0   \n",
       "12157                              196.0                           270.0   \n",
       "\n",
       "       Machine5.Temperature4.C.Actual  Machine5.Temperature6.C.Actual  \\\n",
       "0                               238.8                            64.0   \n",
       "1                               238.8                            63.9   \n",
       "2                               238.8                            63.7   \n",
       "3                               238.9                            63.7   \n",
       "4                               238.9                            63.6   \n",
       "...                               ...                             ...   \n",
       "12153                           244.7                            63.7   \n",
       "12154                           244.7                            63.7   \n",
       "12155                           244.7                            63.7   \n",
       "12156                           244.7                            63.7   \n",
       "12157                           244.7                            63.7   \n",
       "\n",
       "       Machine5.ExitTemperature.U.Actual  \n",
       "0                                  150.5  \n",
       "1                                  150.5  \n",
       "2                                  147.4  \n",
       "3                                  142.6  \n",
       "4                                  142.4  \n",
       "...                                  ...  \n",
       "12153                              155.4  \n",
       "12154                              155.1  \n",
       "12155                              155.1  \n",
       "12156                              155.4  \n",
       "12157                              155.2  \n",
       "\n",
       "[12158 rows x 35 columns]"
      ]
     },
     "execution_count": 49,
     "metadata": {},
     "output_type": "execute_result"
    }
   ],
   "source": [
    "X0_reduced"
   ]
  },
  {
   "cell_type": "code",
   "execution_count": 50,
   "metadata": {},
   "outputs": [
    {
     "data": {
      "text/plain": [
       "0        11.10\n",
       "1        11.10\n",
       "2        11.21\n",
       "3        11.14\n",
       "4        11.05\n",
       "         ...  \n",
       "12153    12.91\n",
       "12154    12.90\n",
       "12155    13.08\n",
       "12156    13.11\n",
       "12157    13.11\n",
       "Name: Stage2.Output.Measurement0.U.Actual, Length: 12158, dtype: float64"
      ]
     },
     "execution_count": 50,
     "metadata": {},
     "output_type": "execute_result"
    }
   ],
   "source": [
    "y0_Actual"
   ]
  },
  {
   "cell_type": "code",
   "execution_count": 51,
   "metadata": {},
   "outputs": [],
   "source": [
    "X0_transformed = RobustScaler().fit_transform(X0_reduced, y0_Actual)"
   ]
  },
  {
   "cell_type": "code",
   "execution_count": 52,
   "metadata": {},
   "outputs": [],
   "source": [
    "X0_train, X0_test, y0_train, y0_test = train_test_split(X0_transformed, y0_Actual, test_size=0.3, random_state=42)"
   ]
  },
  {
   "cell_type": "code",
   "execution_count": 53,
   "metadata": {},
   "outputs": [
    {
     "data": {
      "text/plain": [
       "RandomForestRegressor(max_depth=10)"
      ]
     },
     "execution_count": 53,
     "metadata": {},
     "output_type": "execute_result"
    }
   ],
   "source": [
    "RanFo = RandomForestRegressor(max_depth=10)\n",
    "RanFo.fit(X0_train, y0_train)\n",
    "\n",
    "y0_pred = RanFo.predict(X0_test)"
   ]
  },
  {
   "cell_type": "code",
   "execution_count": 54,
   "metadata": {
    "scrolled": true
   },
   "outputs": [
    {
     "data": {
      "text/plain": [
       "<Figure size 1080x345.6 with 0 Axes>"
      ]
     },
     "execution_count": 54,
     "metadata": {},
     "output_type": "execute_result"
    },
    {
     "data": {
      "text/plain": [
       "<matplotlib.collections.PathCollection at 0x14fd59a8908>"
      ]
     },
     "execution_count": 54,
     "metadata": {},
     "output_type": "execute_result"
    },
    {
     "data": {
      "text/plain": [
       "<matplotlib.collections.PathCollection at 0x14fd59a8e80>"
      ]
     },
     "execution_count": 54,
     "metadata": {},
     "output_type": "execute_result"
    },
    {
     "data": {
      "image/png": "[encoded data removed]",
      "text/plain": [
       "<Figure size 1080x345.6 with 1 Axes>"
      ]
     },
     "metadata": {
      "needs_background": "light"
     },
     "output_type": "display_data"
    }
   ],
   "source": [
    "# test 데이터\n",
    "plt.figure(figsize=(15, 4.8))\n",
    "plt.scatter(np.arange(len(X0_test)), y0_pred, c=\"darkorange\")\n",
    "plt.scatter(np.arange(len(X0_test)), y0_test, c=\"green\")"
   ]
  },
  {
   "cell_type": "code",
   "execution_count": 55,
   "metadata": {},
   "outputs": [
    {
     "data": {
      "text/plain": [
       "[<matplotlib.lines.Line2D at 0x14fd5133208>]"
      ]
     },
     "execution_count": 55,
     "metadata": {},
     "output_type": "execute_result"
    },
    {
     "data": {
      "image/png": "[encoded data removed]",
      "text/plain": [
       "<Figure size 432x288 with 1 Axes>"
      ]
     },
     "metadata": {
      "needs_background": "light"
     },
     "output_type": "display_data"
    }
   ],
   "source": [
    "plt.plot(RanFo.predict(X0_transformed), \"b\")"
   ]
  },
  {
   "cell_type": "code",
   "execution_count": 56,
   "metadata": {},
   "outputs": [
    {
     "data": {
      "text/plain": [
       "[<matplotlib.lines.Line2D at 0x14fd5711208>]"
      ]
     },
     "execution_count": 56,
     "metadata": {},
     "output_type": "execute_result"
    },
    {
     "data": {
      "image/png": "[encoded data removed]",
      "text/plain": [
       "<Figure size 432x288 with 1 Axes>"
      ]
     },
     "metadata": {
      "needs_background": "light"
     },
     "output_type": "display_data"
    }
   ],
   "source": [
    "plt.plot(y0_Actual, \"r\")"
   ]
  },
  {
   "cell_type": "code",
   "execution_count": 57,
   "metadata": {},
   "outputs": [
    {
     "data": {
      "text/plain": [
       "0.014534587921564734"
      ]
     },
     "execution_count": 57,
     "metadata": {},
     "output_type": "execute_result"
    },
    {
     "data": {
      "text/plain": [
       "0.12055947877112248"
      ]
     },
     "execution_count": 57,
     "metadata": {},
     "output_type": "execute_result"
    }
   ],
   "source": [
    "mse = mean_squared_error(y0_test, y0_pred)\n",
    "rmse = np.sqrt(mse)\n",
    "\n",
    "mse\n",
    "rmse"
   ]
  },
  {
   "cell_type": "code",
   "execution_count": 58,
   "metadata": {
    "scrolled": true
   },
   "outputs": [
    {
     "data": {
      "text/plain": [
       "0.7239256744104976"
      ]
     },
     "execution_count": 58,
     "metadata": {},
     "output_type": "execute_result"
    }
   ],
   "source": [
    "r2_score(y0_test, y0_pred)"
   ]
  },
  {
   "cell_type": "code",
   "execution_count": null,
   "metadata": {},
   "outputs": [],
   "source": []
  }
 ],
 "metadata": {
  "kernelspec": {
   "display_name": "Python 3",
   "language": "python",
   "name": "python3"
  },
  "language_info": {
   "codemirror_mode": {
    "name": "ipython",
    "version": 3
   },
   "file_extension": ".py",
   "mimetype": "text/x-python",
   "name": "python",
   "nbconvert_exporter": "python",
   "pygments_lexer": "ipython3",
   "version": "3.6.10"
  }
 },
 "nbformat": 4,
 "nbformat_minor": 4
}
