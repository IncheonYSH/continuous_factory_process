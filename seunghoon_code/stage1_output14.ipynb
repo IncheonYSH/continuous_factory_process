{
 "cells": [
  {
   "cell_type": "code",
   "execution_count": 1,
   "metadata": {},
   "outputs": [],
   "source": [
    "from IPython.core.interactiveshell import InteractiveShell\n",
    "InteractiveShell.ast_node_interactivity=\"all\"\n",
    "\n",
    "import pandas as pd\n",
    "import numpy as np\n",
    "import matplotlib.pyplot as plt\n",
    "%matplotlib inline\n",
    "\n",
    "from datetime import datetime"
   ]
  },
  {
   "cell_type": "code",
   "execution_count": 8,
   "metadata": {},
   "outputs": [
    {
     "data": {
      "text/html": [
       "<div>\n",
       "<style scoped>\n",
       "    .dataframe tbody tr th:only-of-type {\n",
       "        vertical-align: middle;\n",
       "    }\n",
       "\n",
       "    .dataframe tbody tr th {\n",
       "        vertical-align: top;\n",
       "    }\n",
       "\n",
       "    .dataframe thead th {\n",
       "        text-align: right;\n",
       "    }\n",
       "</style>\n",
       "<table border=\"1\" class=\"dataframe\">\n",
       "  <thead>\n",
       "    <tr style=\"text-align: right;\">\n",
       "      <th></th>\n",
       "      <th>time_stamp</th>\n",
       "      <th>AmbientConditions.AmbientHumidity.U.Actual</th>\n",
       "      <th>AmbientConditions.AmbientTemperature.U.Actual</th>\n",
       "      <th>Machine1.RawMaterial.Property1</th>\n",
       "      <th>Machine1.RawMaterial.Property2</th>\n",
       "      <th>Machine1.RawMaterial.Property3</th>\n",
       "      <th>Machine1.RawMaterial.Property4</th>\n",
       "      <th>Machine1.RawMaterialFeederParameter.U.Actual</th>\n",
       "      <th>Machine1.Zone1Temperature.C.Actual</th>\n",
       "      <th>Machine1.Zone2Temperature.C.Actual</th>\n",
       "      <th>...</th>\n",
       "      <th>Stage2.Output.Measurement10.U.Actual</th>\n",
       "      <th>Stage2.Output.Measurement10.U.Setpoint</th>\n",
       "      <th>Stage2.Output.Measurement11.U.Actual</th>\n",
       "      <th>Stage2.Output.Measurement11.U.Setpoint</th>\n",
       "      <th>Stage2.Output.Measurement12.U.Actual</th>\n",
       "      <th>Stage2.Output.Measurement12.U.Setpoint</th>\n",
       "      <th>Stage2.Output.Measurement13.U.Actual</th>\n",
       "      <th>Stage2.Output.Measurement13.U.Setpoint</th>\n",
       "      <th>Stage2.Output.Measurement14.U.Actual</th>\n",
       "      <th>Stage2.Output.Measurement14.U.Setpoint</th>\n",
       "    </tr>\n",
       "  </thead>\n",
       "  <tbody>\n",
       "    <tr>\n",
       "      <th>0</th>\n",
       "      <td>2019-03-06 10:52:33</td>\n",
       "      <td>17.24</td>\n",
       "      <td>23.53</td>\n",
       "      <td>11.54</td>\n",
       "      <td>200</td>\n",
       "      <td>963.0</td>\n",
       "      <td>247</td>\n",
       "      <td>1241.26</td>\n",
       "      <td>72.0</td>\n",
       "      <td>72.3</td>\n",
       "      <td>...</td>\n",
       "      <td>0.0</td>\n",
       "      <td>7.93</td>\n",
       "      <td>0.0</td>\n",
       "      <td>5.65</td>\n",
       "      <td>0.0</td>\n",
       "      <td>1.85</td>\n",
       "      <td>0.0</td>\n",
       "      <td>2.89</td>\n",
       "      <td>0.0</td>\n",
       "      <td>11.71</td>\n",
       "    </tr>\n",
       "    <tr>\n",
       "      <th>1</th>\n",
       "      <td>2019-03-06 10:52:34</td>\n",
       "      <td>17.24</td>\n",
       "      <td>23.53</td>\n",
       "      <td>11.54</td>\n",
       "      <td>200</td>\n",
       "      <td>963.0</td>\n",
       "      <td>247</td>\n",
       "      <td>1246.09</td>\n",
       "      <td>72.0</td>\n",
       "      <td>72.3</td>\n",
       "      <td>...</td>\n",
       "      <td>0.0</td>\n",
       "      <td>7.93</td>\n",
       "      <td>0.0</td>\n",
       "      <td>5.65</td>\n",
       "      <td>0.0</td>\n",
       "      <td>1.85</td>\n",
       "      <td>0.0</td>\n",
       "      <td>2.89</td>\n",
       "      <td>0.0</td>\n",
       "      <td>11.71</td>\n",
       "    </tr>\n",
       "    <tr>\n",
       "      <th>2</th>\n",
       "      <td>2019-03-06 10:52:35</td>\n",
       "      <td>17.24</td>\n",
       "      <td>23.53</td>\n",
       "      <td>11.54</td>\n",
       "      <td>200</td>\n",
       "      <td>963.0</td>\n",
       "      <td>247</td>\n",
       "      <td>1246.29</td>\n",
       "      <td>72.0</td>\n",
       "      <td>72.3</td>\n",
       "      <td>...</td>\n",
       "      <td>0.0</td>\n",
       "      <td>7.93</td>\n",
       "      <td>0.0</td>\n",
       "      <td>5.65</td>\n",
       "      <td>0.0</td>\n",
       "      <td>1.85</td>\n",
       "      <td>0.0</td>\n",
       "      <td>2.89</td>\n",
       "      <td>0.0</td>\n",
       "      <td>11.71</td>\n",
       "    </tr>\n",
       "  </tbody>\n",
       "</table>\n",
       "<p>3 rows × 116 columns</p>\n",
       "</div>"
      ],
      "text/plain": [
       "            time_stamp  AmbientConditions.AmbientHumidity.U.Actual  \\\n",
       "0  2019-03-06 10:52:33                                       17.24   \n",
       "1  2019-03-06 10:52:34                                       17.24   \n",
       "2  2019-03-06 10:52:35                                       17.24   \n",
       "\n",
       "   AmbientConditions.AmbientTemperature.U.Actual  \\\n",
       "0                                          23.53   \n",
       "1                                          23.53   \n",
       "2                                          23.53   \n",
       "\n",
       "   Machine1.RawMaterial.Property1  Machine1.RawMaterial.Property2  \\\n",
       "0                           11.54                             200   \n",
       "1                           11.54                             200   \n",
       "2                           11.54                             200   \n",
       "\n",
       "   Machine1.RawMaterial.Property3  Machine1.RawMaterial.Property4  \\\n",
       "0                           963.0                             247   \n",
       "1                           963.0                             247   \n",
       "2                           963.0                             247   \n",
       "\n",
       "   Machine1.RawMaterialFeederParameter.U.Actual  \\\n",
       "0                                       1241.26   \n",
       "1                                       1246.09   \n",
       "2                                       1246.29   \n",
       "\n",
       "   Machine1.Zone1Temperature.C.Actual  Machine1.Zone2Temperature.C.Actual  \\\n",
       "0                                72.0                                72.3   \n",
       "1                                72.0                                72.3   \n",
       "2                                72.0                                72.3   \n",
       "\n",
       "   ...  Stage2.Output.Measurement10.U.Actual  \\\n",
       "0  ...                                   0.0   \n",
       "1  ...                                   0.0   \n",
       "2  ...                                   0.0   \n",
       "\n",
       "   Stage2.Output.Measurement10.U.Setpoint  \\\n",
       "0                                    7.93   \n",
       "1                                    7.93   \n",
       "2                                    7.93   \n",
       "\n",
       "   Stage2.Output.Measurement11.U.Actual  \\\n",
       "0                                   0.0   \n",
       "1                                   0.0   \n",
       "2                                   0.0   \n",
       "\n",
       "   Stage2.Output.Measurement11.U.Setpoint  \\\n",
       "0                                    5.65   \n",
       "1                                    5.65   \n",
       "2                                    5.65   \n",
       "\n",
       "   Stage2.Output.Measurement12.U.Actual  \\\n",
       "0                                   0.0   \n",
       "1                                   0.0   \n",
       "2                                   0.0   \n",
       "\n",
       "   Stage2.Output.Measurement12.U.Setpoint  \\\n",
       "0                                    1.85   \n",
       "1                                    1.85   \n",
       "2                                    1.85   \n",
       "\n",
       "   Stage2.Output.Measurement13.U.Actual  \\\n",
       "0                                   0.0   \n",
       "1                                   0.0   \n",
       "2                                   0.0   \n",
       "\n",
       "   Stage2.Output.Measurement13.U.Setpoint  \\\n",
       "0                                    2.89   \n",
       "1                                    2.89   \n",
       "2                                    2.89   \n",
       "\n",
       "   Stage2.Output.Measurement14.U.Actual  \\\n",
       "0                                   0.0   \n",
       "1                                   0.0   \n",
       "2                                   0.0   \n",
       "\n",
       "   Stage2.Output.Measurement14.U.Setpoint  \n",
       "0                                   11.71  \n",
       "1                                   11.71  \n",
       "2                                   11.71  \n",
       "\n",
       "[3 rows x 116 columns]"
      ]
     },
     "execution_count": 8,
     "metadata": {},
     "output_type": "execute_result"
    }
   ],
   "source": [
    "# 데이터 로드\n",
    "data = pd.read_csv(\"F:/kdt jupyter/Project/Data/continuous_factory_process.csv\")\n",
    "\n",
    "# copy 생성\n",
    "df1 = data.copy()\n",
    "df1.head(3)\n",
    "\n",
    "# time_stamp 데이터 타입 string -> timestamp\n",
    "df1[\"time_stamp\"] = pd.to_datetime(df1[\"time_stamp\"])"
   ]
  },
  {
   "cell_type": "markdown",
   "metadata": {},
   "source": [
    "## Stage1 output14"
   ]
  },
  {
   "cell_type": "code",
   "execution_count": 10,
   "metadata": {},
   "outputs": [
    {
     "data": {
      "text/plain": [
       "[<matplotlib.lines.Line2D at 0x1da85a1a748>]"
      ]
     },
     "execution_count": 10,
     "metadata": {},
     "output_type": "execute_result"
    },
    {
     "data": {
      "text/plain": [
       "[<matplotlib.lines.Line2D at 0x1da85a1a940>]"
      ]
     },
     "execution_count": 10,
     "metadata": {},
     "output_type": "execute_result"
    },
    {
     "data": {
      "image/png": "[encoded data removed]",
      "text/plain": [
       "<Figure size 432x288 with 1 Axes>"
      ]
     },
     "metadata": {
      "needs_background": "light"
     },
     "output_type": "display_data"
    }
   ],
   "source": [
    "# output 값 1보다 작은 데이터 제거\n",
    "plt.plot(y1[\"Stage1.Output.Measurement14.U.Actual\"].loc[y1[\"Stage1.Output.Measurement14.U.Actual\"] > 1], \"r\")\n",
    "plt.plot(y1[\"Stage1.Output.Measurement14.U.Setpoint\"].loc[y1[\"Stage1.Output.Measurement14.U.Actual\"] > 1], \"b\")"
   ]
  },
  {
   "cell_type": "markdown",
   "metadata": {},
   "source": [
    "##### 20보다 큰이상치 인덱스 검색"
   ]
  },
  {
   "cell_type": "code",
   "execution_count": 23,
   "metadata": {
    "scrolled": false
   },
   "outputs": [
    {
     "data": {
      "text/plain": [
       "6911     20.910000\n",
       "6912     20.910000\n",
       "7730     22.301788\n",
       "8617     22.100000\n",
       "8618     22.100000\n",
       "11148    21.457282\n",
       "Name: Stage1.Output.Measurement14.U.Actual, dtype: float64"
      ]
     },
     "execution_count": 23,
     "metadata": {},
     "output_type": "execute_result"
    }
   ],
   "source": [
    "y1[\"Stage1.Output.Measurement14.U.Actual\"].loc[y1[\"Stage1.Output.Measurement14.U.Actual\"] > 20]"
   ]
  },
  {
   "cell_type": "code",
   "execution_count": 24,
   "metadata": {},
   "outputs": [
    {
     "data": {
      "text/plain": [
       "6908     0.00\n",
       "6909     0.00\n",
       "6910     0.00\n",
       "6911    20.91\n",
       "6912    20.91\n",
       "6913    15.77\n",
       "6914    15.77\n",
       "Name: Stage1.Output.Measurement14.U.Actual, dtype: float64"
      ]
     },
     "execution_count": 24,
     "metadata": {},
     "output_type": "execute_result"
    }
   ],
   "source": [
    "y1[\"Stage1.Output.Measurement14.U.Actual\"][6908:6915]"
   ]
  },
  {
   "cell_type": "code",
   "execution_count": 25,
   "metadata": {},
   "outputs": [
    {
     "data": {
      "text/plain": [
       "7727     0.000000\n",
       "7728     0.000000\n",
       "7729    15.750000\n",
       "7730    22.301788\n",
       "7731    15.750000\n",
       "7732     0.000000\n",
       "Name: Stage1.Output.Measurement14.U.Actual, dtype: float64"
      ]
     },
     "execution_count": 25,
     "metadata": {},
     "output_type": "execute_result"
    }
   ],
   "source": [
    "# 이건 지우면 안될 것 같음\n",
    "y1[\"Stage1.Output.Measurement14.U.Actual\"][7727:7733]"
   ]
  },
  {
   "cell_type": "code",
   "execution_count": 27,
   "metadata": {
    "scrolled": true
   },
   "outputs": [
    {
     "data": {
      "text/plain": [
       "8614    15.78\n",
       "8615    15.78\n",
       "8616    15.78\n",
       "8617    22.10\n",
       "8618    22.10\n",
       "8619     0.00\n",
       "8620     0.00\n",
       "Name: Stage1.Output.Measurement14.U.Actual, dtype: float64"
      ]
     },
     "execution_count": 27,
     "metadata": {},
     "output_type": "execute_result"
    }
   ],
   "source": [
    "y1[\"Stage1.Output.Measurement14.U.Actual\"][8614:8621]"
   ]
  },
  {
   "cell_type": "code",
   "execution_count": 28,
   "metadata": {
    "scrolled": true
   },
   "outputs": [
    {
     "data": {
      "text/plain": [
       "11145     0.000000\n",
       "11146     0.000000\n",
       "11147    15.070000\n",
       "11148    21.457282\n",
       "11149    15.070000\n",
       "11150     0.000000\n",
       "Name: Stage1.Output.Measurement14.U.Actual, dtype: float64"
      ]
     },
     "execution_count": 28,
     "metadata": {},
     "output_type": "execute_result"
    }
   ],
   "source": [
    "# 이것도 지우면 안될 것 같음\n",
    "y1[\"Stage1.Output.Measurement14.U.Actual\"][11145:11151]"
   ]
  },
  {
   "cell_type": "markdown",
   "metadata": {},
   "source": [
    "##### 20보다 큰 인덱스들은 보류"
   ]
  },
  {
   "cell_type": "markdown",
   "metadata": {},
   "source": [
    "##### 10보다 작은 이상치 인덱스 검색"
   ]
  },
  {
   "cell_type": "code",
   "execution_count": 11,
   "metadata": {},
   "outputs": [
    {
     "data": {
      "text/plain": [
       "8093     7.794189\n",
       "8127     8.470173\n",
       "11152    8.062649\n",
       "13161    6.919961\n",
       "Name: Stage1.Output.Measurement14.U.Actual, dtype: float64"
      ]
     },
     "execution_count": 11,
     "metadata": {},
     "output_type": "execute_result"
    }
   ],
   "source": [
    "y1[\"Stage1.Output.Measurement14.U.Actual\"].loc[y1[\"Stage1.Output.Measurement14.U.Actual\"] < 10].loc[y1[\"Stage1.Output.Measurement14.U.Actual\"] > 6]"
   ]
  },
  {
   "cell_type": "code",
   "execution_count": 12,
   "metadata": {},
   "outputs": [
    {
     "data": {
      "text/plain": [
       "8090     0.000000\n",
       "8091     0.000000\n",
       "8092     0.000000\n",
       "8093     7.794189\n",
       "8094    15.740000\n",
       "8095    15.900000\n",
       "8096    14.820000\n",
       "Name: Stage1.Output.Measurement14.U.Actual, dtype: float64"
      ]
     },
     "execution_count": 12,
     "metadata": {},
     "output_type": "execute_result"
    }
   ],
   "source": [
    "y1[\"Stage1.Output.Measurement14.U.Actual\"][8090:8097]"
   ]
  },
  {
   "cell_type": "code",
   "execution_count": 13,
   "metadata": {},
   "outputs": [
    {
     "data": {
      "text/plain": [
       "8124    15.760000\n",
       "8125     0.000000\n",
       "8126     0.000000\n",
       "8127     8.470173\n",
       "8128    15.820000\n",
       "8129    15.820000\n",
       "8130    15.820000\n",
       "Name: Stage1.Output.Measurement14.U.Actual, dtype: float64"
      ]
     },
     "execution_count": 13,
     "metadata": {},
     "output_type": "execute_result"
    }
   ],
   "source": [
    "y1[\"Stage1.Output.Measurement14.U.Actual\"][8124:8131]"
   ]
  },
  {
   "cell_type": "code",
   "execution_count": 14,
   "metadata": {},
   "outputs": [
    {
     "data": {
      "text/plain": [
       "11149    15.070000\n",
       "11150     0.000000\n",
       "11151     0.000000\n",
       "11152     8.062649\n",
       "11153    15.100000\n",
       "11154    15.100000\n",
       "11155    15.050000\n",
       "Name: Stage1.Output.Measurement14.U.Actual, dtype: float64"
      ]
     },
     "execution_count": 14,
     "metadata": {},
     "output_type": "execute_result"
    }
   ],
   "source": [
    "y1[\"Stage1.Output.Measurement14.U.Actual\"][11149:11156]"
   ]
  },
  {
   "cell_type": "code",
   "execution_count": 15,
   "metadata": {},
   "outputs": [
    {
     "data": {
      "text/plain": [
       "13158     0.000000\n",
       "13159    14.950000\n",
       "13160    14.950000\n",
       "13161     6.919961\n",
       "13162     0.000000\n",
       "13163     0.000000\n",
       "13164     0.000000\n",
       "Name: Stage1.Output.Measurement14.U.Actual, dtype: float64"
      ]
     },
     "execution_count": 15,
     "metadata": {},
     "output_type": "execute_result"
    }
   ],
   "source": [
    "y1[\"Stage1.Output.Measurement14.U.Actual\"][13158:13165]"
   ]
  },
  {
   "cell_type": "markdown",
   "metadata": {},
   "source": [
    "##### 이상치인 0으로 오거나 가는 과정에서 나타난 것으로 보임\n",
    "\n",
    "##### 제거 가능할 듯"
   ]
  },
  {
   "cell_type": "code",
   "execution_count": 19,
   "metadata": {},
   "outputs": [],
   "source": [
    "# 이상치 제거 데이터 생성\n",
    "df1_reduced = df1.loc[df1[\"Stage1.Output.Measurement14.U.Actual\"] > 10]"
   ]
  },
  {
   "cell_type": "code",
   "execution_count": 20,
   "metadata": {
    "scrolled": true
   },
   "outputs": [
    {
     "data": {
      "text/plain": [
       "[<matplotlib.lines.Line2D at 0x1da886fa4a8>]"
      ]
     },
     "execution_count": 20,
     "metadata": {},
     "output_type": "execute_result"
    },
    {
     "data": {
      "text/plain": [
       "[<matplotlib.lines.Line2D at 0x1da886fa7f0>]"
      ]
     },
     "execution_count": 20,
     "metadata": {},
     "output_type": "execute_result"
    },
    {
     "data": {
      "image/png": "[encoded data removed]",
      "text/plain": [
       "<Figure size 432x288 with 1 Axes>"
      ]
     },
     "metadata": {
      "needs_background": "light"
     },
     "output_type": "display_data"
    }
   ],
   "source": [
    "plt.plot(df1_reduced[\"Stage1.Output.Measurement14.U.Actual\"], \"r\")\n",
    "plt.plot(df1_reduced[\"Stage1.Output.Measurement14.U.Setpoint\"], \"b\")"
   ]
  },
  {
   "cell_type": "markdown",
   "metadata": {},
   "source": [
    "### X, y 분할"
   ]
  },
  {
   "cell_type": "code",
   "execution_count": 35,
   "metadata": {},
   "outputs": [
    {
     "data": {
      "text/html": [
       "<div>\n",
       "<style scoped>\n",
       "    .dataframe tbody tr th:only-of-type {\n",
       "        vertical-align: middle;\n",
       "    }\n",
       "\n",
       "    .dataframe tbody tr th {\n",
       "        vertical-align: top;\n",
       "    }\n",
       "\n",
       "    .dataframe thead th {\n",
       "        text-align: right;\n",
       "    }\n",
       "</style>\n",
       "<table border=\"1\" class=\"dataframe\">\n",
       "  <thead>\n",
       "    <tr style=\"text-align: right;\">\n",
       "      <th></th>\n",
       "      <th>Stage1.Output.Measurement14.U.Actual</th>\n",
       "      <th>Stage1.Output.Measurement14.U.Setpoint</th>\n",
       "    </tr>\n",
       "  </thead>\n",
       "  <tbody>\n",
       "    <tr>\n",
       "      <th>0</th>\n",
       "      <td>14.51</td>\n",
       "      <td>17.72</td>\n",
       "    </tr>\n",
       "    <tr>\n",
       "      <th>6</th>\n",
       "      <td>14.60</td>\n",
       "      <td>17.72</td>\n",
       "    </tr>\n",
       "    <tr>\n",
       "      <th>7</th>\n",
       "      <td>14.60</td>\n",
       "      <td>17.72</td>\n",
       "    </tr>\n",
       "  </tbody>\n",
       "</table>\n",
       "</div>"
      ],
      "text/plain": [
       "   Stage1.Output.Measurement14.U.Actual  \\\n",
       "0                                 14.51   \n",
       "6                                 14.60   \n",
       "7                                 14.60   \n",
       "\n",
       "   Stage1.Output.Measurement14.U.Setpoint  \n",
       "0                                   17.72  \n",
       "6                                   17.72  \n",
       "7                                   17.72  "
      ]
     },
     "execution_count": 35,
     "metadata": {},
     "output_type": "execute_result"
    }
   ],
   "source": [
    "X, y = df1_reduced.iloc[:, :42], df1_reduced.iloc[:, 70:72]\n",
    "y.head(3)"
   ]
  },
  {
   "cell_type": "code",
   "execution_count": 41,
   "metadata": {},
   "outputs": [
    {
     "data": {
      "text/html": [
       "<div>\n",
       "<style scoped>\n",
       "    .dataframe tbody tr th:only-of-type {\n",
       "        vertical-align: middle;\n",
       "    }\n",
       "\n",
       "    .dataframe tbody tr th {\n",
       "        vertical-align: top;\n",
       "    }\n",
       "\n",
       "    .dataframe thead th {\n",
       "        text-align: right;\n",
       "    }\n",
       "</style>\n",
       "<table border=\"1\" class=\"dataframe\">\n",
       "  <thead>\n",
       "    <tr style=\"text-align: right;\">\n",
       "      <th></th>\n",
       "      <th>time_stamp</th>\n",
       "      <th>AmbientConditions.AmbientHumidity.U.Actual</th>\n",
       "      <th>AmbientConditions.AmbientTemperature.U.Actual</th>\n",
       "      <th>Machine1.RawMaterial.Property1</th>\n",
       "      <th>Machine1.RawMaterial.Property2</th>\n",
       "      <th>Machine1.RawMaterial.Property3</th>\n",
       "      <th>Machine1.RawMaterial.Property4</th>\n",
       "      <th>Machine1.RawMaterialFeederParameter.U.Actual</th>\n",
       "      <th>Machine1.MotorAmperage.U.Actual</th>\n",
       "      <th>Machine1.MotorRPM.C.Actual</th>\n",
       "      <th>...</th>\n",
       "      <th>Machine3.RawMaterial.Property2</th>\n",
       "      <th>Machine3.RawMaterial.Property3</th>\n",
       "      <th>Machine3.RawMaterial.Property4</th>\n",
       "      <th>Machine3.RawMaterialFeederParameter.U.Actual</th>\n",
       "      <th>Machine3.MotorAmperage.U.Actual</th>\n",
       "      <th>Machine3.MotorRPM.C.Actual</th>\n",
       "      <th>Machine3.MaterialPressure.U.Actual</th>\n",
       "      <th>Machine3.MaterialTemperature.U.Actual</th>\n",
       "      <th>FirstStage.CombinerOperation.Temperature1.U.Actual</th>\n",
       "      <th>FirstStage.CombinerOperation.Temperature2.U.Actual</th>\n",
       "    </tr>\n",
       "  </thead>\n",
       "  <tbody>\n",
       "    <tr>\n",
       "      <th>0</th>\n",
       "      <td>2019-03-06 10:52:33</td>\n",
       "      <td>17.24</td>\n",
       "      <td>23.53</td>\n",
       "      <td>11.54</td>\n",
       "      <td>200</td>\n",
       "      <td>963.00</td>\n",
       "      <td>247</td>\n",
       "      <td>1241.26</td>\n",
       "      <td>48.03</td>\n",
       "      <td>10.48</td>\n",
       "      <td>...</td>\n",
       "      <td>186</td>\n",
       "      <td>421.16</td>\n",
       "      <td>200</td>\n",
       "      <td>203.95</td>\n",
       "      <td>337.40</td>\n",
       "      <td>13.50</td>\n",
       "      <td>263.71</td>\n",
       "      <td>65.3</td>\n",
       "      <td>99.1</td>\n",
       "      <td>108.2</td>\n",
       "    </tr>\n",
       "    <tr>\n",
       "      <th>6</th>\n",
       "      <td>2019-03-06 10:52:39</td>\n",
       "      <td>17.24</td>\n",
       "      <td>23.53</td>\n",
       "      <td>11.54</td>\n",
       "      <td>200</td>\n",
       "      <td>963.00</td>\n",
       "      <td>247</td>\n",
       "      <td>1306.38</td>\n",
       "      <td>48.70</td>\n",
       "      <td>10.45</td>\n",
       "      <td>...</td>\n",
       "      <td>186</td>\n",
       "      <td>421.16</td>\n",
       "      <td>200</td>\n",
       "      <td>223.10</td>\n",
       "      <td>345.76</td>\n",
       "      <td>13.81</td>\n",
       "      <td>261.03</td>\n",
       "      <td>65.4</td>\n",
       "      <td>99.6</td>\n",
       "      <td>109.9</td>\n",
       "    </tr>\n",
       "    <tr>\n",
       "      <th>7</th>\n",
       "      <td>2019-03-06 10:52:40</td>\n",
       "      <td>17.24</td>\n",
       "      <td>23.53</td>\n",
       "      <td>11.54</td>\n",
       "      <td>200</td>\n",
       "      <td>963.00</td>\n",
       "      <td>247</td>\n",
       "      <td>1296.13</td>\n",
       "      <td>49.78</td>\n",
       "      <td>10.48</td>\n",
       "      <td>...</td>\n",
       "      <td>186</td>\n",
       "      <td>421.16</td>\n",
       "      <td>200</td>\n",
       "      <td>220.17</td>\n",
       "      <td>351.83</td>\n",
       "      <td>13.49</td>\n",
       "      <td>260.61</td>\n",
       "      <td>65.4</td>\n",
       "      <td>99.6</td>\n",
       "      <td>109.0</td>\n",
       "    </tr>\n",
       "    <tr>\n",
       "      <th>14</th>\n",
       "      <td>2019-03-06 10:52:47</td>\n",
       "      <td>17.24</td>\n",
       "      <td>23.53</td>\n",
       "      <td>11.54</td>\n",
       "      <td>200</td>\n",
       "      <td>963.00</td>\n",
       "      <td>247</td>\n",
       "      <td>1119.22</td>\n",
       "      <td>49.64</td>\n",
       "      <td>10.48</td>\n",
       "      <td>...</td>\n",
       "      <td>186</td>\n",
       "      <td>421.16</td>\n",
       "      <td>200</td>\n",
       "      <td>224.23</td>\n",
       "      <td>342.55</td>\n",
       "      <td>13.70</td>\n",
       "      <td>259.08</td>\n",
       "      <td>65.5</td>\n",
       "      <td>100.3</td>\n",
       "      <td>109.7</td>\n",
       "    </tr>\n",
       "    <tr>\n",
       "      <th>15</th>\n",
       "      <td>2019-03-06 10:52:48</td>\n",
       "      <td>17.24</td>\n",
       "      <td>23.53</td>\n",
       "      <td>11.54</td>\n",
       "      <td>200</td>\n",
       "      <td>963.00</td>\n",
       "      <td>247</td>\n",
       "      <td>1103.32</td>\n",
       "      <td>50.18</td>\n",
       "      <td>10.52</td>\n",
       "      <td>...</td>\n",
       "      <td>186</td>\n",
       "      <td>421.16</td>\n",
       "      <td>200</td>\n",
       "      <td>220.64</td>\n",
       "      <td>340.95</td>\n",
       "      <td>13.89</td>\n",
       "      <td>258.93</td>\n",
       "      <td>65.5</td>\n",
       "      <td>100.3</td>\n",
       "      <td>113.4</td>\n",
       "    </tr>\n",
       "    <tr>\n",
       "      <th>...</th>\n",
       "      <td>...</td>\n",
       "      <td>...</td>\n",
       "      <td>...</td>\n",
       "      <td>...</td>\n",
       "      <td>...</td>\n",
       "      <td>...</td>\n",
       "      <td>...</td>\n",
       "      <td>...</td>\n",
       "      <td>...</td>\n",
       "      <td>...</td>\n",
       "      <td>...</td>\n",
       "      <td>...</td>\n",
       "      <td>...</td>\n",
       "      <td>...</td>\n",
       "      <td>...</td>\n",
       "      <td>...</td>\n",
       "      <td>...</td>\n",
       "      <td>...</td>\n",
       "      <td>...</td>\n",
       "      <td>...</td>\n",
       "      <td>...</td>\n",
       "    </tr>\n",
       "    <tr>\n",
       "      <th>14063</th>\n",
       "      <td>2019-03-06 14:46:56</td>\n",
       "      <td>13.84</td>\n",
       "      <td>24.43</td>\n",
       "      <td>12.22</td>\n",
       "      <td>201</td>\n",
       "      <td>1048.06</td>\n",
       "      <td>252</td>\n",
       "      <td>1180.45</td>\n",
       "      <td>72.78</td>\n",
       "      <td>12.08</td>\n",
       "      <td>...</td>\n",
       "      <td>221</td>\n",
       "      <td>433.18</td>\n",
       "      <td>205</td>\n",
       "      <td>196.17</td>\n",
       "      <td>342.73</td>\n",
       "      <td>12.21</td>\n",
       "      <td>248.20</td>\n",
       "      <td>74.9</td>\n",
       "      <td>114.8</td>\n",
       "      <td>106.1</td>\n",
       "    </tr>\n",
       "    <tr>\n",
       "      <th>14064</th>\n",
       "      <td>2019-03-06 14:46:57</td>\n",
       "      <td>13.84</td>\n",
       "      <td>24.43</td>\n",
       "      <td>12.22</td>\n",
       "      <td>201</td>\n",
       "      <td>1048.06</td>\n",
       "      <td>252</td>\n",
       "      <td>1252.80</td>\n",
       "      <td>72.78</td>\n",
       "      <td>12.08</td>\n",
       "      <td>...</td>\n",
       "      <td>221</td>\n",
       "      <td>433.18</td>\n",
       "      <td>205</td>\n",
       "      <td>204.85</td>\n",
       "      <td>340.68</td>\n",
       "      <td>12.21</td>\n",
       "      <td>248.21</td>\n",
       "      <td>74.9</td>\n",
       "      <td>114.8</td>\n",
       "      <td>106.0</td>\n",
       "    </tr>\n",
       "    <tr>\n",
       "      <th>14076</th>\n",
       "      <td>2019-03-06 14:47:09</td>\n",
       "      <td>13.84</td>\n",
       "      <td>24.43</td>\n",
       "      <td>12.22</td>\n",
       "      <td>201</td>\n",
       "      <td>1048.06</td>\n",
       "      <td>252</td>\n",
       "      <td>1269.34</td>\n",
       "      <td>73.86</td>\n",
       "      <td>12.08</td>\n",
       "      <td>...</td>\n",
       "      <td>221</td>\n",
       "      <td>433.18</td>\n",
       "      <td>205</td>\n",
       "      <td>204.48</td>\n",
       "      <td>338.85</td>\n",
       "      <td>12.18</td>\n",
       "      <td>248.22</td>\n",
       "      <td>74.9</td>\n",
       "      <td>113.5</td>\n",
       "      <td>106.1</td>\n",
       "    </tr>\n",
       "    <tr>\n",
       "      <th>14077</th>\n",
       "      <td>2019-03-06 14:47:10</td>\n",
       "      <td>13.84</td>\n",
       "      <td>24.43</td>\n",
       "      <td>12.22</td>\n",
       "      <td>201</td>\n",
       "      <td>1048.06</td>\n",
       "      <td>252</td>\n",
       "      <td>1254.87</td>\n",
       "      <td>73.86</td>\n",
       "      <td>12.14</td>\n",
       "      <td>...</td>\n",
       "      <td>221</td>\n",
       "      <td>433.18</td>\n",
       "      <td>205</td>\n",
       "      <td>194.49</td>\n",
       "      <td>337.57</td>\n",
       "      <td>12.26</td>\n",
       "      <td>248.18</td>\n",
       "      <td>74.9</td>\n",
       "      <td>113.5</td>\n",
       "      <td>105.6</td>\n",
       "    </tr>\n",
       "    <tr>\n",
       "      <th>14078</th>\n",
       "      <td>2019-03-06 14:47:11</td>\n",
       "      <td>13.84</td>\n",
       "      <td>24.43</td>\n",
       "      <td>12.22</td>\n",
       "      <td>201</td>\n",
       "      <td>1048.06</td>\n",
       "      <td>252</td>\n",
       "      <td>1261.11</td>\n",
       "      <td>72.65</td>\n",
       "      <td>12.21</td>\n",
       "      <td>...</td>\n",
       "      <td>221</td>\n",
       "      <td>433.18</td>\n",
       "      <td>205</td>\n",
       "      <td>208.12</td>\n",
       "      <td>342.36</td>\n",
       "      <td>12.20</td>\n",
       "      <td>248.20</td>\n",
       "      <td>74.9</td>\n",
       "      <td>117.7</td>\n",
       "      <td>105.7</td>\n",
       "    </tr>\n",
       "  </tbody>\n",
       "</table>\n",
       "<p>9065 rows × 32 columns</p>\n",
       "</div>"
      ],
      "text/plain": [
       "               time_stamp  AmbientConditions.AmbientHumidity.U.Actual  \\\n",
       "0     2019-03-06 10:52:33                                       17.24   \n",
       "6     2019-03-06 10:52:39                                       17.24   \n",
       "7     2019-03-06 10:52:40                                       17.24   \n",
       "14    2019-03-06 10:52:47                                       17.24   \n",
       "15    2019-03-06 10:52:48                                       17.24   \n",
       "...                   ...                                         ...   \n",
       "14063 2019-03-06 14:46:56                                       13.84   \n",
       "14064 2019-03-06 14:46:57                                       13.84   \n",
       "14076 2019-03-06 14:47:09                                       13.84   \n",
       "14077 2019-03-06 14:47:10                                       13.84   \n",
       "14078 2019-03-06 14:47:11                                       13.84   \n",
       "\n",
       "       AmbientConditions.AmbientTemperature.U.Actual  \\\n",
       "0                                              23.53   \n",
       "6                                              23.53   \n",
       "7                                              23.53   \n",
       "14                                             23.53   \n",
       "15                                             23.53   \n",
       "...                                              ...   \n",
       "14063                                          24.43   \n",
       "14064                                          24.43   \n",
       "14076                                          24.43   \n",
       "14077                                          24.43   \n",
       "14078                                          24.43   \n",
       "\n",
       "       Machine1.RawMaterial.Property1  Machine1.RawMaterial.Property2  \\\n",
       "0                               11.54                             200   \n",
       "6                               11.54                             200   \n",
       "7                               11.54                             200   \n",
       "14                              11.54                             200   \n",
       "15                              11.54                             200   \n",
       "...                               ...                             ...   \n",
       "14063                           12.22                             201   \n",
       "14064                           12.22                             201   \n",
       "14076                           12.22                             201   \n",
       "14077                           12.22                             201   \n",
       "14078                           12.22                             201   \n",
       "\n",
       "       Machine1.RawMaterial.Property3  Machine1.RawMaterial.Property4  \\\n",
       "0                              963.00                             247   \n",
       "6                              963.00                             247   \n",
       "7                              963.00                             247   \n",
       "14                             963.00                             247   \n",
       "15                             963.00                             247   \n",
       "...                               ...                             ...   \n",
       "14063                         1048.06                             252   \n",
       "14064                         1048.06                             252   \n",
       "14076                         1048.06                             252   \n",
       "14077                         1048.06                             252   \n",
       "14078                         1048.06                             252   \n",
       "\n",
       "       Machine1.RawMaterialFeederParameter.U.Actual  \\\n",
       "0                                           1241.26   \n",
       "6                                           1306.38   \n",
       "7                                           1296.13   \n",
       "14                                          1119.22   \n",
       "15                                          1103.32   \n",
       "...                                             ...   \n",
       "14063                                       1180.45   \n",
       "14064                                       1252.80   \n",
       "14076                                       1269.34   \n",
       "14077                                       1254.87   \n",
       "14078                                       1261.11   \n",
       "\n",
       "       Machine1.MotorAmperage.U.Actual  Machine1.MotorRPM.C.Actual  ...  \\\n",
       "0                                48.03                       10.48  ...   \n",
       "6                                48.70                       10.45  ...   \n",
       "7                                49.78                       10.48  ...   \n",
       "14                               49.64                       10.48  ...   \n",
       "15                               50.18                       10.52  ...   \n",
       "...                                ...                         ...  ...   \n",
       "14063                            72.78                       12.08  ...   \n",
       "14064                            72.78                       12.08  ...   \n",
       "14076                            73.86                       12.08  ...   \n",
       "14077                            73.86                       12.14  ...   \n",
       "14078                            72.65                       12.21  ...   \n",
       "\n",
       "       Machine3.RawMaterial.Property2  Machine3.RawMaterial.Property3  \\\n",
       "0                                 186                          421.16   \n",
       "6                                 186                          421.16   \n",
       "7                                 186                          421.16   \n",
       "14                                186                          421.16   \n",
       "15                                186                          421.16   \n",
       "...                               ...                             ...   \n",
       "14063                             221                          433.18   \n",
       "14064                             221                          433.18   \n",
       "14076                             221                          433.18   \n",
       "14077                             221                          433.18   \n",
       "14078                             221                          433.18   \n",
       "\n",
       "       Machine3.RawMaterial.Property4  \\\n",
       "0                                 200   \n",
       "6                                 200   \n",
       "7                                 200   \n",
       "14                                200   \n",
       "15                                200   \n",
       "...                               ...   \n",
       "14063                             205   \n",
       "14064                             205   \n",
       "14076                             205   \n",
       "14077                             205   \n",
       "14078                             205   \n",
       "\n",
       "       Machine3.RawMaterialFeederParameter.U.Actual  \\\n",
       "0                                            203.95   \n",
       "6                                            223.10   \n",
       "7                                            220.17   \n",
       "14                                           224.23   \n",
       "15                                           220.64   \n",
       "...                                             ...   \n",
       "14063                                        196.17   \n",
       "14064                                        204.85   \n",
       "14076                                        204.48   \n",
       "14077                                        194.49   \n",
       "14078                                        208.12   \n",
       "\n",
       "       Machine3.MotorAmperage.U.Actual  Machine3.MotorRPM.C.Actual  \\\n",
       "0                               337.40                       13.50   \n",
       "6                               345.76                       13.81   \n",
       "7                               351.83                       13.49   \n",
       "14                              342.55                       13.70   \n",
       "15                              340.95                       13.89   \n",
       "...                                ...                         ...   \n",
       "14063                           342.73                       12.21   \n",
       "14064                           340.68                       12.21   \n",
       "14076                           338.85                       12.18   \n",
       "14077                           337.57                       12.26   \n",
       "14078                           342.36                       12.20   \n",
       "\n",
       "       Machine3.MaterialPressure.U.Actual  \\\n",
       "0                                  263.71   \n",
       "6                                  261.03   \n",
       "7                                  260.61   \n",
       "14                                 259.08   \n",
       "15                                 258.93   \n",
       "...                                   ...   \n",
       "14063                              248.20   \n",
       "14064                              248.21   \n",
       "14076                              248.22   \n",
       "14077                              248.18   \n",
       "14078                              248.20   \n",
       "\n",
       "       Machine3.MaterialTemperature.U.Actual  \\\n",
       "0                                       65.3   \n",
       "6                                       65.4   \n",
       "7                                       65.4   \n",
       "14                                      65.5   \n",
       "15                                      65.5   \n",
       "...                                      ...   \n",
       "14063                                   74.9   \n",
       "14064                                   74.9   \n",
       "14076                                   74.9   \n",
       "14077                                   74.9   \n",
       "14078                                   74.9   \n",
       "\n",
       "       FirstStage.CombinerOperation.Temperature1.U.Actual  \\\n",
       "0                                                   99.1    \n",
       "6                                                   99.6    \n",
       "7                                                   99.6    \n",
       "14                                                 100.3    \n",
       "15                                                 100.3    \n",
       "...                                                  ...    \n",
       "14063                                              114.8    \n",
       "14064                                              114.8    \n",
       "14076                                              113.5    \n",
       "14077                                              113.5    \n",
       "14078                                              117.7    \n",
       "\n",
       "       FirstStage.CombinerOperation.Temperature2.U.Actual  \n",
       "0                                                  108.2   \n",
       "6                                                  109.9   \n",
       "7                                                  109.0   \n",
       "14                                                 109.7   \n",
       "15                                                 113.4   \n",
       "...                                                  ...   \n",
       "14063                                              106.1   \n",
       "14064                                              106.0   \n",
       "14076                                              106.1   \n",
       "14077                                              105.6   \n",
       "14078                                              105.7   \n",
       "\n",
       "[9065 rows x 32 columns]"
      ]
     },
     "execution_count": 41,
     "metadata": {},
     "output_type": "execute_result"
    }
   ],
   "source": [
    "X_reduced = X.copy()\n",
    "X_reduced.drop([\"Machine1.Zone1Temperature.C.Actual\", \"Machine2.Zone1Temperature.C.Actual\", \"Machine3.Zone1Temperature.C.Actual\",\n",
    "               \"Machine1.Zone2Temperature.C.Actual\", \"Machine2.Zone2Temperature.C.Actual\", \"Machine3.Zone2Temperature.C.Actual\",\n",
    "               \"Machine2.ExitZoneTemperature.C.Actual\", \"Machine3.ExitZoneTemperature.C.Actual\",\n",
    "                \"Machine2.MotorAmperage.U.Actual\",\n",
    "                \"FirstStage.CombinerOperation.Temperature3.C.Actual\"],\n",
    "              axis = 1, inplace = True)\n",
    "X_reduced"
   ]
  },
  {
   "cell_type": "code",
   "execution_count": 43,
   "metadata": {},
   "outputs": [
    {
     "data": {
      "text/plain": [
       "[<matplotlib.lines.Line2D at 0x1da8aaacc18>]"
      ]
     },
     "execution_count": 43,
     "metadata": {},
     "output_type": "execute_result"
    },
    {
     "data": {
      "image/png": "[encoded data removed]",
      "text/plain": [
       "<Figure size 432x288 with 1 Axes>"
      ]
     },
     "metadata": {
      "needs_background": "light"
     },
     "output_type": "display_data"
    }
   ],
   "source": [
    "plt.plot(X_reduced[\"Machine1.MaterialPressure.U.Actual\"])"
   ]
  },
  {
   "cell_type": "code",
   "execution_count": 44,
   "metadata": {},
   "outputs": [
    {
     "data": {
      "text/plain": [
       "[<matplotlib.lines.Line2D at 0x1da8a971ef0>]"
      ]
     },
     "execution_count": 44,
     "metadata": {},
     "output_type": "execute_result"
    },
    {
     "data": {
      "image/png": "[encoded data removed]",
      "text/plain": [
       "<Figure size 432x288 with 1 Axes>"
      ]
     },
     "metadata": {
      "needs_background": "light"
     },
     "output_type": "display_data"
    }
   ],
   "source": [
    "plt.plot(X1[\"Machine1.MaterialPressure.U.Actual\"])"
   ]
  },
  {
   "cell_type": "code",
   "execution_count": null,
   "metadata": {},
   "outputs": [],
   "source": []
  }
 ],
 "metadata": {
  "kernelspec": {
   "display_name": "Python 3",
   "language": "python",
   "name": "python3"
  },
  "language_info": {
   "codemirror_mode": {
    "name": "ipython",
    "version": 3
   },
   "file_extension": ".py",
   "mimetype": "text/x-python",
   "name": "python",
   "nbconvert_exporter": "python",
   "pygments_lexer": "ipython3",
   "version": "3.6.10"
  }
 },
 "nbformat": 4,
 "nbformat_minor": 4
}
