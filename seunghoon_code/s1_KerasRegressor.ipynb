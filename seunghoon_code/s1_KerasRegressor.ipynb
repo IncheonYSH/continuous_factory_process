{
 "cells": [
  {
   "cell_type": "code",
   "execution_count": 1,
   "metadata": {},
   "outputs": [],
   "source": [
    "from IPython.core.interactiveshell import InteractiveShell\n",
    "InteractiveShell.ast_node_interactivity=\"all\""
   ]
  },
  {
   "cell_type": "code",
   "execution_count": 2,
   "metadata": {},
   "outputs": [],
   "source": [
    "import pandas as pd\n",
    "import numpy as np\n",
    "from matplotlib import pyplot as plt\n",
    "import seaborn as sns\n",
    "\n",
    "from tensorflow.keras.models import Sequential\n",
    "from tensorflow.keras.layers import Dense, Dropout\n",
    "from tensorflow.keras.wrappers.scikit_learn import KerasRegressor\n",
    "from sklearn.model_selection import cross_val_score, KFold, train_test_split\n",
    "from sklearn.preprocessing import RobustScaler\n",
    "from sklearn.pipeline import Pipeline\n",
    "from sklearn.metrics import mean_squared_error"
   ]
  },
  {
   "cell_type": "code",
   "execution_count": 3,
   "metadata": {},
   "outputs": [],
   "source": [
    "seed = 42\n",
    "np.random.seed(seed)"
   ]
  },
  {
   "cell_type": "code",
   "execution_count": 4,
   "metadata": {},
   "outputs": [],
   "source": [
    "drop_cols = [\"time_stamp\",\n",
    "             \"Machine1.Zone1Temperature.C.Actual\", \"Machine2.Zone1Temperature.C.Actual\", \"Machine3.Zone1Temperature.C.Actual\",\n",
    "             \"Machine1.Zone2Temperature.C.Actual\", \"Machine2.Zone2Temperature.C.Actual\", \"Machine3.Zone2Temperature.C.Actual\",\n",
    "             \"Machine2.ExitZoneTemperature.C.Actual\", \"Machine3.ExitZoneTemperature.C.Actual\",\n",
    "             \"Machine1.MotorAmperage.U.Actual\", \"Machine2.MotorAmperage.U.Actual\", \"Machine3.MotorAmperage.U.Actual\",\n",
    "             \"Machine2.MotorRPM.C.Actual\",\n",
    "             \"FirstStage.CombinerOperation.Temperature3.C.Actual\"]"
   ]
  },
  {
   "cell_type": "code",
   "execution_count": 5,
   "metadata": {},
   "outputs": [],
   "source": [
    "df0_indexed = pd.read_csv(\"../Data/df0_indexed.csv\")\n",
    "\n",
    "X0, y0 = df0_indexed.iloc[:, :42], df0_indexed.iloc[:, 42:44]\n",
    "\n",
    "X0_reduced = X0.copy()\n",
    "X0_reduced.drop(drop_cols, axis=1, inplace=True)\n",
    "\n",
    "y0_Actual = y0.iloc[:, 0]"
   ]
  },
  {
   "cell_type": "code",
   "execution_count": 6,
   "metadata": {},
   "outputs": [
    {
     "data": {
      "text/plain": [
       "(13261, 28)"
      ]
     },
     "execution_count": 6,
     "metadata": {},
     "output_type": "execute_result"
    }
   ],
   "source": [
    "X0_reduced.shape"
   ]
  },
  {
   "cell_type": "code",
   "execution_count": 7,
   "metadata": {},
   "outputs": [],
   "source": [
    "def base_model():\n",
    "    # create model\n",
    "    model = Sequential()\n",
    "    model.add(Dense(28, input_dim=28, kernel_initializer='normal', activation='relu'))\n",
    "    model.add(Dropout(0.2))\n",
    "    model.add(Dense(128, kernel_initializer='normal', activation='relu'))\n",
    "    model.add(Dense(1, kernel_initializer='normal'))\n",
    "    # Compile model\n",
    "    model.compile(loss='mse', optimizer='adam')\n",
    "    return model"
   ]
  },
  {
   "cell_type": "code",
   "execution_count": 20,
   "metadata": {},
   "outputs": [],
   "source": [
    "estimators = []\n",
    "estimators.append(('robust', RobustScaler()))\n",
    "estimators.append(('kerasReg', KerasRegressor(build_fn=base_model, epochs=10, batch_size=10, verbose=1)))"
   ]
  },
  {
   "cell_type": "code",
   "execution_count": 21,
   "metadata": {},
   "outputs": [],
   "source": [
    "pipe = Pipeline(estimators)"
   ]
  },
  {
   "cell_type": "code",
   "execution_count": 22,
   "metadata": {},
   "outputs": [],
   "source": [
    "kfold = KFold(n_splits=5, shuffle=True, random_state=seed)"
   ]
  },
  {
   "cell_type": "code",
   "execution_count": 23,
   "metadata": {},
   "outputs": [],
   "source": [
    "X0_train, X0_test, y0_train, y0_test = train_test_split(X0_reduced, y0_Actual, test_size=0.2, random_state=seed)"
   ]
  },
  {
   "cell_type": "code",
   "execution_count": 24,
   "metadata": {
    "scrolled": true
   },
   "outputs": [],
   "source": [
    "# cross_val_score(pipe, X0_train, y0_train, cv=kfold, n_jobs=1)"
   ]
  },
  {
   "cell_type": "code",
   "execution_count": 25,
   "metadata": {
    "scrolled": true
   },
   "outputs": [
    {
     "name": "stdout",
     "output_type": "stream",
     "text": [
      "Epoch 1/10\n",
      "1061/1061 [==============================] - 1s 772us/step - loss: 10.4875\n",
      "Epoch 2/10\n",
      "1061/1061 [==============================] - 1s 765us/step - loss: 0.6536\n",
      "Epoch 3/10\n",
      "1061/1061 [==============================] - 1s 759us/step - loss: 0.0697\n",
      "Epoch 4/10\n",
      "1061/1061 [==============================] - 1s 760us/step - loss: 0.0140\n",
      "Epoch 5/10\n",
      "1061/1061 [==============================] - 1s 763us/step - loss: 0.0115\n",
      "Epoch 6/10\n",
      "1061/1061 [==============================] - 1s 758us/step - loss: 0.0103\n",
      "Epoch 7/10\n",
      "1061/1061 [==============================] - 1s 763us/step - loss: 0.0099\n",
      "Epoch 8/10\n",
      "1061/1061 [==============================] - 1s 759us/step - loss: 0.0090\n",
      "Epoch 9/10\n",
      "1061/1061 [==============================] - 1s 769us/step - loss: 0.0087\n",
      "Epoch 10/10\n",
      "1061/1061 [==============================] - 1s 807us/step - loss: 0.0078\n"
     ]
    },
    {
     "data": {
      "text/plain": [
       "Pipeline(steps=[('robust', RobustScaler()),\n",
       "                ('kerasReg',\n",
       "                 <tensorflow.python.keras.wrappers.scikit_learn.KerasRegressor object at 0x000002353ED00A58>)])"
      ]
     },
     "execution_count": 25,
     "metadata": {},
     "output_type": "execute_result"
    }
   ],
   "source": [
    "pipe.fit(X0_train, y0_train)"
   ]
  },
  {
   "cell_type": "code",
   "execution_count": 26,
   "metadata": {
    "scrolled": false
   },
   "outputs": [
    {
     "name": "stdout",
     "output_type": "stream",
     "text": [
      "266/266 [==============================] - 0s 535us/step\n"
     ]
    }
   ],
   "source": [
    "y0_pred = pipe.predict(X0_test)"
   ]
  },
  {
   "cell_type": "code",
   "execution_count": 27,
   "metadata": {
    "scrolled": true
   },
   "outputs": [
    {
     "data": {
      "text/plain": [
       "<matplotlib.collections.PathCollection at 0x23540860438>"
      ]
     },
     "execution_count": 27,
     "metadata": {},
     "output_type": "execute_result"
    },
    {
     "data": {
      "text/plain": [
       "<matplotlib.collections.PathCollection at 0x23540f5b198>"
      ]
     },
     "execution_count": 27,
     "metadata": {},
     "output_type": "execute_result"
    },
    {
     "data": {
      "image/png": "[encoded data removed]",
      "text/plain": [
       "<Figure size 432x288 with 1 Axes>"
      ]
     },
     "metadata": {
      "needs_background": "light"
     },
     "output_type": "display_data"
    }
   ],
   "source": [
    "plt.scatter(np.arange(len(X0_test)), y0_test)\n",
    "plt.scatter(np.arange(len(X0_test)), y0_pred)"
   ]
  },
  {
   "cell_type": "code",
   "execution_count": 28,
   "metadata": {},
   "outputs": [
    {
     "name": "stdout",
     "output_type": "stream",
     "text": [
      "1327/1327 [==============================] - 1s 532us/step\n"
     ]
    },
    {
     "data": {
      "text/plain": [
       "[<matplotlib.lines.Line2D at 0x2353ec90518>]"
      ]
     },
     "execution_count": 28,
     "metadata": {},
     "output_type": "execute_result"
    },
    {
     "data": {
      "image/png": "[encoded data removed]",
      "text/plain": [
       "<Figure size 432x288 with 1 Axes>"
      ]
     },
     "metadata": {
      "needs_background": "light"
     },
     "output_type": "display_data"
    }
   ],
   "source": [
    "plt.plot(pipe.predict(X0_reduced), \"b\")"
   ]
  },
  {
   "cell_type": "code",
   "execution_count": 29,
   "metadata": {},
   "outputs": [
    {
     "data": {
      "text/plain": [
       "[<matplotlib.lines.Line2D at 0x2353f4884e0>]"
      ]
     },
     "execution_count": 29,
     "metadata": {},
     "output_type": "execute_result"
    },
    {
     "data": {
      "image/png": "[encoded data removed]",
      "text/plain": [
       "<Figure size 432x288 with 1 Axes>"
      ]
     },
     "metadata": {
      "needs_background": "light"
     },
     "output_type": "display_data"
    }
   ],
   "source": [
    "plt.plot(y0_Actual, \"r\")"
   ]
  },
  {
   "cell_type": "code",
   "execution_count": 30,
   "metadata": {
    "scrolled": true
   },
   "outputs": [
    {
     "name": "stdout",
     "output_type": "stream",
     "text": [
      "266/266 [==============================] - 0s 595us/step - loss: 0.0070\n"
     ]
    },
    {
     "data": {
      "text/plain": [
       "-0.007015732116997242"
      ]
     },
     "execution_count": 30,
     "metadata": {},
     "output_type": "execute_result"
    }
   ],
   "source": [
    "pipe.score(X0_test, y0_test)"
   ]
  },
  {
   "cell_type": "code",
   "execution_count": 31,
   "metadata": {},
   "outputs": [
    {
     "data": {
      "text/plain": [
       "0.08375998195261687"
      ]
     },
     "execution_count": 31,
     "metadata": {},
     "output_type": "execute_result"
    }
   ],
   "source": [
    "rmse = np.sqrt(mean_squared_error(y0_test, y0_pred))\n",
    "rmse"
   ]
  },
  {
   "cell_type": "code",
   "execution_count": null,
   "metadata": {},
   "outputs": [],
   "source": []
  }
 ],
 "metadata": {
  "kernelspec": {
   "display_name": "Python 3",
   "language": "python",
   "name": "python3"
  },
  "language_info": {
   "codemirror_mode": {
    "name": "ipython",
    "version": 3
   },
   "file_extension": ".py",
   "mimetype": "text/x-python",
   "name": "python",
   "nbconvert_exporter": "python",
   "pygments_lexer": "ipython3",
   "version": "3.6.10"
  }
 },
 "nbformat": 4,
 "nbformat_minor": 4
}
