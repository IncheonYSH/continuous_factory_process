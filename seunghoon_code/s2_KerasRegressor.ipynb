{
 "cells": [
  {
   "cell_type": "code",
   "execution_count": 1,
   "metadata": {},
   "outputs": [],
   "source": [
    "from IPython.core.interactiveshell import InteractiveShell\n",
    "InteractiveShell.ast_node_interactivity=\"all\""
   ]
  },
  {
   "cell_type": "code",
   "execution_count": 26,
   "metadata": {},
   "outputs": [],
   "source": [
    "import pandas as pd\n",
    "import numpy as np\n",
    "from matplotlib import pyplot as plt\n",
    "import seaborn as sns\n",
    "\n",
    "from tensorflow.keras.models import Sequential\n",
    "from tensorflow.keras.layers import Dense, Dropout\n",
    "from tensorflow.keras.wrappers.scikit_learn import KerasRegressor\n",
    "from sklearn.model_selection import cross_val_score, KFold, train_test_split\n",
    "from sklearn.preprocessing import RobustScaler\n",
    "from sklearn.pipeline import Pipeline\n",
    "from sklearn.metrics import mean_squared_error"
   ]
  },
  {
   "cell_type": "code",
   "execution_count": 3,
   "metadata": {},
   "outputs": [],
   "source": [
    "seed = 42\n",
    "np.random.seed(seed)"
   ]
  },
  {
   "cell_type": "code",
   "execution_count": 4,
   "metadata": {},
   "outputs": [],
   "source": [
    "drop_cols = [\"time_stamp\",\n",
    "             \"Machine1.Zone1Temperature.C.Actual\", \"Machine2.Zone1Temperature.C.Actual\", \"Machine3.Zone1Temperature.C.Actual\",\n",
    "             \"Machine1.Zone2Temperature.C.Actual\", \"Machine2.Zone2Temperature.C.Actual\", \"Machine3.Zone2Temperature.C.Actual\",\n",
    "             \"Machine2.ExitZoneTemperature.C.Actual\", \"Machine3.ExitZoneTemperature.C.Actual\",\n",
    "             \"Machine1.MotorAmperage.U.Actual\", \"Machine2.MotorAmperage.U.Actual\", \"Machine3.MotorAmperage.U.Actual\",\n",
    "             \"Machine2.MotorRPM.C.Actual\",\n",
    "             \"FirstStage.CombinerOperation.Temperature3.C.Actual\",\n",
    "             \"Machine4.Temperature1.C.Actual\", \"Machine4.Temperature2.C.Actual\", \"Machine4.Temperature3.C.Actual\", \"Machine4.Pressure.C.Actual\",\n",
    "             \"Machine5.Temperature1.C.Actual\", \"Machine5.Temperature2.C.Actual\", \"Machine5.Temperature5.C.Actual\"]"
   ]
  },
  {
   "cell_type": "code",
   "execution_count": 5,
   "metadata": {},
   "outputs": [],
   "source": [
    "y_drop_cols = [\"Stage1.Output.Measurement0.U.Actual\", \"Stage1.Output.Measurement0.U.Setpoint\",\n",
    "               \"Stage1.Output.Measurement1.U.Actual\", \"Stage1.Output.Measurement1.U.Setpoint\",\n",
    "               \"Stage1.Output.Measurement2.U.Actual\", \"Stage1.Output.Measurement2.U.Setpoint\",\n",
    "               \"Stage1.Output.Measurement3.U.Actual\", \"Stage1.Output.Measurement3.U.Setpoint\",\n",
    "               \"Stage1.Output.Measurement4.U.Actual\", \"Stage1.Output.Measurement4.U.Setpoint\",\n",
    "               \"Stage1.Output.Measurement5.U.Actual\", \"Stage1.Output.Measurement5.U.Setpoint\",\n",
    "               \"Stage1.Output.Measurement6.U.Actual\", \"Stage1.Output.Measurement6.U.Setpoint\",\n",
    "               \"Stage1.Output.Measurement7.U.Actual\", \"Stage1.Output.Measurement7.U.Setpoint\",\n",
    "               \"Stage1.Output.Measurement8.U.Actual\", \"Stage1.Output.Measurement8.U.Setpoint\",\n",
    "               \"Stage1.Output.Measurement9.U.Actual\", \"Stage1.Output.Measurement9.U.Setpoint\",\n",
    "               \"Stage1.Output.Measurement10.U.Actual\", \"Stage1.Output.Measurement10.U.Setpoint\",\n",
    "               \"Stage1.Output.Measurement11.U.Actual\", \"Stage1.Output.Measurement11.U.Setpoint\",\n",
    "               \"Stage1.Output.Measurement12.U.Actual\", \"Stage1.Output.Measurement12.U.Setpoint\",\n",
    "               \"Stage1.Output.Measurement13.U.Actual\", \"Stage1.Output.Measurement13.U.Setpoint\",\n",
    "               \"Stage1.Output.Measurement14.U.Actual\", \"Stage1.Output.Measurement14.U.Setpoint\"]"
   ]
  },
  {
   "cell_type": "code",
   "execution_count": 6,
   "metadata": {},
   "outputs": [],
   "source": [
    "df0_indexed = pd.read_csv(\"../Data/s2_df0_indexed.csv\")\n",
    "\n",
    "X0, y0 = df0_indexed.iloc[:, :86], df0_indexed.iloc[:, 86:88]\n",
    "\n",
    "X0_reduced = X0.copy()\n",
    "X0_reduced.drop(drop_cols, axis=1, inplace=True)\n",
    "X0_reduced.drop(y_drop_cols, axis=1, inplace=True)\n",
    "\n",
    "y0_Actual = y0.iloc[:, 0]"
   ]
  },
  {
   "cell_type": "code",
   "execution_count": 7,
   "metadata": {},
   "outputs": [
    {
     "data": {
      "text/plain": [
       "(12158, 35)"
      ]
     },
     "execution_count": 7,
     "metadata": {},
     "output_type": "execute_result"
    }
   ],
   "source": [
    "X0_reduced.shape"
   ]
  },
  {
   "cell_type": "code",
   "execution_count": 14,
   "metadata": {},
   "outputs": [],
   "source": [
    "def base_model():\n",
    "    # create model\n",
    "    model = Sequential()\n",
    "    model.add(Dense(35, input_dim=35, kernel_initializer='normal', activation='relu'))\n",
    "    model.add(Dropout(0.2))\n",
    "    model.add(Dense(128, kernel_initializer='normal', activation='relu'))\n",
    "    model.add(Dense(1, kernel_initializer='normal'))\n",
    "    # Compile model\n",
    "    model.compile(loss='mse', optimizer='adam')\n",
    "    return model"
   ]
  },
  {
   "cell_type": "code",
   "execution_count": 15,
   "metadata": {},
   "outputs": [],
   "source": [
    "estimators = []\n",
    "estimators.append(('robust', RobustScaler()))\n",
    "estimators.append(('kerasReg', KerasRegressor(build_fn=base_model, epochs=20, batch_size=10, verbose=1)))"
   ]
  },
  {
   "cell_type": "code",
   "execution_count": 16,
   "metadata": {},
   "outputs": [],
   "source": [
    "pipe = Pipeline(estimators)"
   ]
  },
  {
   "cell_type": "code",
   "execution_count": 17,
   "metadata": {},
   "outputs": [],
   "source": [
    "kfold = KFold(n_splits=5, shuffle=True, random_state=seed)"
   ]
  },
  {
   "cell_type": "code",
   "execution_count": 18,
   "metadata": {},
   "outputs": [],
   "source": [
    "X0_train, X0_test, y0_train, y0_test = train_test_split(X0_reduced, y0_Actual, test_size=0.2, random_state=seed)"
   ]
  },
  {
   "cell_type": "code",
   "execution_count": 19,
   "metadata": {
    "scrolled": true
   },
   "outputs": [
    {
     "name": "stdout",
     "output_type": "stream",
     "text": [
      "Epoch 1/20\n",
      "778/778 [==============================] - 1s 828us/step - loss: 11.4367\n",
      "Epoch 2/20\n",
      "778/778 [==============================] - 1s 725us/step - loss: 1.1311\n",
      "Epoch 3/20\n",
      "778/778 [==============================] - 1s 707us/step - loss: 0.4092\n",
      "Epoch 4/20\n",
      "778/778 [==============================] - 1s 735us/step - loss: 0.1232\n",
      "Epoch 5/20\n",
      "778/778 [==============================] - 1s 729us/step - loss: 0.0549\n",
      "Epoch 6/20\n",
      "778/778 [==============================] - 1s 722us/step - loss: 0.0427\n",
      "Epoch 7/20\n",
      "778/778 [==============================] - 1s 708us/step - loss: 0.0409\n",
      "Epoch 8/20\n",
      "778/778 [==============================] - 1s 717us/step - loss: 0.0391\n",
      "Epoch 9/20\n",
      "778/778 [==============================] - 1s 744us/step - loss: 0.0398\n",
      "Epoch 10/20\n",
      "778/778 [==============================] - 1s 760us/step - loss: 0.0387\n",
      "Epoch 11/20\n",
      "778/778 [==============================] - 1s 753us/step - loss: 0.0383\n",
      "Epoch 12/20\n",
      "778/778 [==============================] - 1s 729us/step - loss: 0.0369\n",
      "Epoch 13/20\n",
      "778/778 [==============================] - 1s 734us/step - loss: 0.0346\n",
      "Epoch 14/20\n",
      "778/778 [==============================] - 1s 770us/step - loss: 0.0337\n",
      "Epoch 15/20\n",
      "778/778 [==============================] - 1s 732us/step - loss: 0.0316\n",
      "Epoch 16/20\n",
      "778/778 [==============================] - 1s 770us/step - loss: 0.0286\n",
      "Epoch 17/20\n",
      "778/778 [==============================] - 1s 778us/step - loss: 0.0260\n",
      "Epoch 18/20\n",
      "778/778 [==============================] - 1s 773us/step - loss: 0.0277\n",
      "Epoch 19/20\n",
      "778/778 [==============================] - 1s 735us/step - loss: 0.0276\n",
      "Epoch 20/20\n",
      "778/778 [==============================] - 1s 788us/step - loss: 0.0272\n",
      "195/195 [==============================] - 0s 841us/step - loss: 0.0198\n",
      "Epoch 1/20\n",
      "779/779 [==============================] - 1s 798us/step - loss: 13.7516\n",
      "Epoch 2/20\n",
      "779/779 [==============================] - 1s 806us/step - loss: 1.4606\n",
      "Epoch 3/20\n",
      "779/779 [==============================] - 1s 849us/step - loss: 0.5208\n",
      "Epoch 4/20\n",
      "779/779 [==============================] - 1s 808us/step - loss: 0.1892\n",
      "Epoch 5/20\n",
      "779/779 [==============================] - 1s 816us/step - loss: 0.0705\n",
      "Epoch 6/20\n",
      "779/779 [==============================] - 1s 811us/step - loss: 0.0435\n",
      "Epoch 7/20\n",
      "779/779 [==============================] - 1s 792us/step - loss: 0.0388\n",
      "Epoch 8/20\n",
      "779/779 [==============================] - 1s 797us/step - loss: 0.0385\n",
      "Epoch 9/20\n",
      "779/779 [==============================] - 1s 800us/step - loss: 0.0376\n",
      "Epoch 10/20\n",
      "779/779 [==============================] - 1s 860us/step - loss: 0.0353\n",
      "Epoch 11/20\n",
      "779/779 [==============================] - 1s 838us/step - loss: 0.0306\n",
      "Epoch 12/20\n",
      "779/779 [==============================] - 1s 789us/step - loss: 0.0307\n",
      "Epoch 13/20\n",
      "779/779 [==============================] - 1s 799us/step - loss: 0.0281\n",
      "Epoch 14/20\n",
      "779/779 [==============================] - 1s 788us/step - loss: 0.0278\n",
      "Epoch 15/20\n",
      "779/779 [==============================] - 1s 795us/step - loss: 0.0280\n",
      "Epoch 16/20\n",
      "779/779 [==============================] - 1s 796us/step - loss: 0.0302\n",
      "Epoch 17/20\n",
      "779/779 [==============================] - 1s 791us/step - loss: 0.0272\n",
      "Epoch 18/20\n",
      "779/779 [==============================] - 1s 788us/step - loss: 0.0270\n",
      "Epoch 19/20\n",
      "779/779 [==============================] - 1s 792us/step - loss: 0.0253\n",
      "Epoch 20/20\n",
      "779/779 [==============================] - 1s 793us/step - loss: 0.0280\n",
      "195/195 [==============================] - 0s 625us/step - loss: 0.0240\n",
      "Epoch 1/20\n",
      "779/779 [==============================] - 1s 768us/step - loss: 12.4998\n",
      "Epoch 2/20\n",
      "779/779 [==============================] - 1s 769us/step - loss: 1.3733\n",
      "Epoch 3/20\n",
      "779/779 [==============================] - 1s 769us/step - loss: 0.5606\n",
      "Epoch 4/20\n",
      "779/779 [==============================] - 1s 763us/step - loss: 0.1806\n",
      "Epoch 5/20\n",
      "779/779 [==============================] - 1s 760us/step - loss: 0.0596\n",
      "Epoch 6/20\n",
      "779/779 [==============================] - 1s 769us/step - loss: 0.0423\n",
      "Epoch 7/20\n",
      "779/779 [==============================] - 1s 765us/step - loss: 0.0355\n",
      "Epoch 8/20\n",
      "779/779 [==============================] - 1s 765us/step - loss: 0.0342\n",
      "Epoch 9/20\n",
      "779/779 [==============================] - 1s 768us/step - loss: 0.0324\n",
      "Epoch 10/20\n",
      "779/779 [==============================] - 1s 771us/step - loss: 0.0313\n",
      "Epoch 11/20\n",
      "779/779 [==============================] - 1s 769us/step - loss: 0.0305\n",
      "Epoch 12/20\n",
      "779/779 [==============================] - 1s 767us/step - loss: 0.0280\n",
      "Epoch 13/20\n",
      "779/779 [==============================] - 1s 773us/step - loss: 0.0276\n",
      "Epoch 14/20\n",
      "779/779 [==============================] - 1s 761us/step - loss: 0.0264\n",
      "Epoch 15/20\n",
      "779/779 [==============================] - 1s 760us/step - loss: 0.0257\n",
      "Epoch 16/20\n",
      "779/779 [==============================] - 1s 782us/step - loss: 0.0253\n",
      "Epoch 17/20\n",
      "779/779 [==============================] - 1s 785us/step - loss: 0.0265\n",
      "Epoch 18/20\n",
      "779/779 [==============================] - 1s 772us/step - loss: 0.0254\n",
      "Epoch 19/20\n",
      "779/779 [==============================] - 1s 774us/step - loss: 0.0256\n",
      "Epoch 20/20\n",
      "779/779 [==============================] - 1s 769us/step - loss: 0.0260\n",
      "195/195 [==============================] - 0s 610us/step - loss: 0.0243\n",
      "Epoch 1/20\n",
      "779/779 [==============================] - 1s 767us/step - loss: 12.6562\n",
      "Epoch 2/20\n",
      "779/779 [==============================] - 1s 775us/step - loss: 1.2561\n",
      "Epoch 3/20\n",
      "779/779 [==============================] - 1s 777us/step - loss: 0.5103\n",
      "Epoch 4/20\n",
      "779/779 [==============================] - 1s 768us/step - loss: 0.1849\n",
      "Epoch 5/20\n",
      "779/779 [==============================] - 1s 766us/step - loss: 0.0728\n",
      "Epoch 6/20\n",
      "779/779 [==============================] - 1s 767us/step - loss: 0.0445\n",
      "Epoch 7/20\n",
      "779/779 [==============================] - 1s 766us/step - loss: 0.0408\n",
      "Epoch 8/20\n",
      "779/779 [==============================] - 1s 768us/step - loss: 0.0378\n",
      "Epoch 9/20\n",
      "779/779 [==============================] - 1s 767us/step - loss: 0.0365\n",
      "Epoch 10/20\n",
      "779/779 [==============================] - 1s 770us/step - loss: 0.0334\n",
      "Epoch 11/20\n",
      "779/779 [==============================] - 1s 769us/step - loss: 0.0327\n",
      "Epoch 12/20\n",
      "779/779 [==============================] - 1s 774us/step - loss: 0.0294\n",
      "Epoch 13/20\n",
      "779/779 [==============================] - 1s 770us/step - loss: 0.0280\n",
      "Epoch 14/20\n",
      "779/779 [==============================] - 1s 778us/step - loss: 0.0273\n",
      "Epoch 15/20\n",
      "779/779 [==============================] - 1s 758us/step - loss: 0.0279\n",
      "Epoch 16/20\n",
      "779/779 [==============================] - 1s 773us/step - loss: 0.0282\n",
      "Epoch 17/20\n",
      "779/779 [==============================] - 1s 775us/step - loss: 0.0286\n",
      "Epoch 18/20\n",
      "779/779 [==============================] - 1s 770us/step - loss: 0.0293\n",
      "Epoch 19/20\n",
      "779/779 [==============================] - 1s 778us/step - loss: 0.0280\n",
      "Epoch 20/20\n",
      "779/779 [==============================] - 1s 773us/step - loss: 0.0253\n",
      "195/195 [==============================] - 0s 591us/step - loss: 0.0209\n",
      "Epoch 1/20\n",
      "779/779 [==============================] - 1s 754us/step - loss: 11.9150\n",
      "Epoch 2/20\n",
      "779/779 [==============================] - 1s 767us/step - loss: 1.0506\n",
      "Epoch 3/20\n",
      "779/779 [==============================] - 1s 762us/step - loss: 0.3772\n",
      "Epoch 4/20\n",
      "779/779 [==============================] - 1s 776us/step - loss: 0.1263\n",
      "Epoch 5/20\n",
      "779/779 [==============================] - 1s 767us/step - loss: 0.0550\n",
      "Epoch 6/20\n",
      "779/779 [==============================] - 1s 781us/step - loss: 0.0432\n",
      "Epoch 7/20\n",
      "779/779 [==============================] - 1s 767us/step - loss: 0.0391\n",
      "Epoch 8/20\n",
      "779/779 [==============================] - 1s 778us/step - loss: 0.0390\n",
      "Epoch 9/20\n",
      "779/779 [==============================] - 1s 763us/step - loss: 0.0370\n",
      "Epoch 10/20\n",
      "779/779 [==============================] - 1s 769us/step - loss: 0.0370\n",
      "Epoch 11/20\n",
      "779/779 [==============================] - 1s 769us/step - loss: 0.0358\n",
      "Epoch 12/20\n",
      "779/779 [==============================] - 1s 771us/step - loss: 0.0340\n",
      "Epoch 13/20\n",
      "779/779 [==============================] - 1s 762us/step - loss: 0.0292\n",
      "Epoch 14/20\n",
      "779/779 [==============================] - 1s 775us/step - loss: 0.0283\n",
      "Epoch 15/20\n"
     ]
    },
    {
     "name": "stdout",
     "output_type": "stream",
     "text": [
      "779/779 [==============================] - 1s 759us/step - loss: 0.0275\n",
      "Epoch 16/20\n",
      "779/779 [==============================] - 1s 752us/step - loss: 0.0272\n",
      "Epoch 17/20\n",
      "779/779 [==============================] - 1s 747us/step - loss: 0.0265\n",
      "Epoch 18/20\n",
      "779/779 [==============================] - 1s 752us/step - loss: 0.0259\n",
      "Epoch 19/20\n",
      "779/779 [==============================] - 1s 756us/step - loss: 0.0279\n",
      "Epoch 20/20\n",
      "779/779 [==============================] - 1s 751us/step - loss: 0.0270\n",
      "195/195 [==============================] - 0s 596us/step - loss: 0.0432\n"
     ]
    },
    {
     "data": {
      "text/plain": [
       "array([-0.01979443, -0.02397183, -0.02430634, -0.02094509, -0.04323018])"
      ]
     },
     "execution_count": 19,
     "metadata": {},
     "output_type": "execute_result"
    }
   ],
   "source": [
    "cross_val_score(pipe, X0_train, y0_train, cv=kfold, n_jobs=1)"
   ]
  },
  {
   "cell_type": "code",
   "execution_count": 20,
   "metadata": {
    "scrolled": true
   },
   "outputs": [
    {
     "name": "stdout",
     "output_type": "stream",
     "text": [
      "Epoch 1/20\n",
      "973/973 [==============================] - 1s 756us/step - loss: 10.1616\n",
      "Epoch 2/20\n",
      "973/973 [==============================] - 1s 764us/step - loss: 0.8865\n",
      "Epoch 3/20\n",
      "973/973 [==============================] - 1s 768us/step - loss: 0.2172\n",
      "Epoch 4/20\n",
      "973/973 [==============================] - 1s 762us/step - loss: 0.0615\n",
      "Epoch 5/20\n",
      "973/973 [==============================] - 1s 768us/step - loss: 0.0416\n",
      "Epoch 6/20\n",
      "973/973 [==============================] - 1s 768us/step - loss: 0.0378\n",
      "Epoch 7/20\n",
      "973/973 [==============================] - 1s 755us/step - loss: 0.0380\n",
      "Epoch 8/20\n",
      "973/973 [==============================] - 1s 779us/step - loss: 0.0357\n",
      "Epoch 9/20\n",
      "973/973 [==============================] - 1s 811us/step - loss: 0.0363\n",
      "Epoch 10/20\n",
      "973/973 [==============================] - 1s 747us/step - loss: 0.0331\n",
      "Epoch 11/20\n",
      "973/973 [==============================] - 1s 771us/step - loss: 0.0322\n",
      "Epoch 12/20\n",
      "973/973 [==============================] - 1s 827us/step - loss: 0.0322\n",
      "Epoch 13/20\n",
      "973/973 [==============================] - 1s 786us/step - loss: 0.0311\n",
      "Epoch 14/20\n",
      "973/973 [==============================] - 1s 800us/step - loss: 0.0299\n",
      "Epoch 15/20\n",
      "973/973 [==============================] - 1s 761us/step - loss: 0.0285\n",
      "Epoch 16/20\n",
      "973/973 [==============================] - 1s 805us/step - loss: 0.0276\n",
      "Epoch 17/20\n",
      "973/973 [==============================] - 1s 765us/step - loss: 0.0277\n",
      "Epoch 18/20\n",
      "973/973 [==============================] - 1s 816us/step - loss: 0.0284\n",
      "Epoch 19/20\n",
      "973/973 [==============================] - 1s 818us/step - loss: 0.0287\n",
      "Epoch 20/20\n",
      "973/973 [==============================] - 1s 762us/step - loss: 0.0280\n"
     ]
    },
    {
     "data": {
      "text/plain": [
       "Pipeline(steps=[('robust', RobustScaler()),\n",
       "                ('kerasReg',\n",
       "                 <tensorflow.python.keras.wrappers.scikit_learn.KerasRegressor object at 0x000001BE0A379DA0>)])"
      ]
     },
     "execution_count": 20,
     "metadata": {},
     "output_type": "execute_result"
    }
   ],
   "source": [
    "pipe.fit(X0_train, y0_train)"
   ]
  },
  {
   "cell_type": "code",
   "execution_count": 21,
   "metadata": {
    "scrolled": true
   },
   "outputs": [
    {
     "name": "stdout",
     "output_type": "stream",
     "text": [
      "244/244 [==============================] - 0s 671us/step\n"
     ]
    }
   ],
   "source": [
    "y0_pred = pipe.predict(X0_test)"
   ]
  },
  {
   "cell_type": "code",
   "execution_count": 22,
   "metadata": {
    "scrolled": true
   },
   "outputs": [
    {
     "data": {
      "text/plain": [
       "<matplotlib.collections.PathCollection at 0x1be0c25b3c8>"
      ]
     },
     "execution_count": 22,
     "metadata": {},
     "output_type": "execute_result"
    },
    {
     "data": {
      "text/plain": [
       "<matplotlib.collections.PathCollection at 0x1be0c25be10>"
      ]
     },
     "execution_count": 22,
     "metadata": {},
     "output_type": "execute_result"
    },
    {
     "data": {
      "image/png": "[encoded data removed]",
      "text/plain": [
       "<Figure size 432x288 with 1 Axes>"
      ]
     },
     "metadata": {
      "needs_background": "light"
     },
     "output_type": "display_data"
    }
   ],
   "source": [
    "plt.scatter(np.arange(len(X0_test)), y0_test)\n",
    "plt.scatter(np.arange(len(X0_test)), y0_pred)"
   ]
  },
  {
   "cell_type": "code",
   "execution_count": 24,
   "metadata": {},
   "outputs": [
    {
     "name": "stdout",
     "output_type": "stream",
     "text": [
      "1216/1216 [==============================] - 1s 520us/step\n"
     ]
    },
    {
     "data": {
      "text/plain": [
       "[<matplotlib.lines.Line2D at 0x1be0bcbe8d0>]"
      ]
     },
     "execution_count": 24,
     "metadata": {},
     "output_type": "execute_result"
    },
    {
     "data": {
      "image/png": "[encoded data removed]",
      "text/plain": [
       "<Figure size 432x288 with 1 Axes>"
      ]
     },
     "metadata": {
      "needs_background": "light"
     },
     "output_type": "display_data"
    }
   ],
   "source": [
    "plt.plot(pipe.predict(X0_reduced), \"b\")"
   ]
  },
  {
   "cell_type": "code",
   "execution_count": 25,
   "metadata": {},
   "outputs": [
    {
     "data": {
      "text/plain": [
       "[<matplotlib.lines.Line2D at 0x1be0bfc9048>]"
      ]
     },
     "execution_count": 25,
     "metadata": {},
     "output_type": "execute_result"
    },
    {
     "data": {
      "image/png": "[encoded data removed]",
      "text/plain": [
       "<Figure size 432x288 with 1 Axes>"
      ]
     },
     "metadata": {
      "needs_background": "light"
     },
     "output_type": "display_data"
    }
   ],
   "source": [
    "plt.plot(y0_Actual, \"r\")"
   ]
  },
  {
   "cell_type": "code",
   "execution_count": 23,
   "metadata": {},
   "outputs": [
    {
     "name": "stdout",
     "output_type": "stream",
     "text": [
      "244/244 [==============================] - 0s 589us/step - loss: 0.0259\n"
     ]
    },
    {
     "data": {
      "text/plain": [
       "-0.02589329704642296"
      ]
     },
     "execution_count": 23,
     "metadata": {},
     "output_type": "execute_result"
    }
   ],
   "source": [
    "# mse\n",
    "pipe.score(X0_test, y0_test)"
   ]
  },
  {
   "cell_type": "code",
   "execution_count": 31,
   "metadata": {
    "scrolled": true
   },
   "outputs": [
    {
     "data": {
      "text/plain": [
       "0.16091394291083952"
      ]
     },
     "execution_count": 31,
     "metadata": {},
     "output_type": "execute_result"
    }
   ],
   "source": [
    "rmse = np.sqrt(mean_squared_error(y0_pred, y0_test))\n",
    "rmse"
   ]
  },
  {
   "cell_type": "code",
   "execution_count": null,
   "metadata": {},
   "outputs": [],
   "source": []
  }
 ],
 "metadata": {
  "kernelspec": {
   "display_name": "Python 3",
   "language": "python",
   "name": "python3"
  },
  "language_info": {
   "codemirror_mode": {
    "name": "ipython",
    "version": 3
   },
   "file_extension": ".py",
   "mimetype": "text/x-python",
   "name": "python",
   "nbconvert_exporter": "python",
   "pygments_lexer": "ipython3",
   "version": "3.6.10"
  }
 },
 "nbformat": 4,
 "nbformat_minor": 4
}
